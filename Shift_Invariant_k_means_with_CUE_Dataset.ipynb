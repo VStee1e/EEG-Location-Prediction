{
  "nbformat": 4,
  "nbformat_minor": 0,
  "metadata": {
    "colab": {
      "provenance": [],
      "authorship_tag": "ABX9TyNgyiEervNVHf2rjCrFtpvn",
      "include_colab_link": true
    },
    "kernelspec": {
      "name": "python3",
      "display_name": "Python 3"
    },
    "language_info": {
      "name": "python"
    }
  },
  "cells": [
    {
      "cell_type": "markdown",
      "metadata": {
        "id": "view-in-github",
        "colab_type": "text"
      },
      "source": [
        "<a href=\"https://colab.research.google.com/github/VStee1e/EEG-Location-Prediction/blob/main/Shift_Invariant_k_means_with_CUE_Dataset.ipynb\" target=\"_parent\"><img src=\"https://colab.research.google.com/assets/colab-badge.svg\" alt=\"Open In Colab\"/></a>"
      ]
    },
    {
      "cell_type": "markdown",
      "source": [
        "Import packages"
      ],
      "metadata": {
        "id": "-YQipE6cYvij"
      }
    },
    {
      "cell_type": "code",
      "source": [
        "!pip install mne\n",
        "!pip install BOWaves\n",
        "import mne\n",
        "import numpy as np\n",
        "import scipy.io as sio\n",
        "import os\n",
        "import fnmatch\n",
        "# import numpy as np\n",
        "# import mne\n",
        "import pandas as pd\n",
        "import csv\n",
        "import matplotlib.pyplot as plt\n",
        "import time\n",
        "from BOWaves.sikmeans import sikmeans_core\n",
        "from BOWaves.utilities.wrappers import si_pairwise_distances_argmin_min\n",
        "from BOWaves.utilities.wrappers import si_pairwise_distances_argmin_min_scipyvq\n",
        "\n",
        "from scipy.signal import fftconvolve\n",
        "from scipy.cluster import vq\n",
        "import numbers\n"
      ],
      "metadata": {
        "colab": {
          "base_uri": "https://localhost:8080/"
        },
        "collapsed": true,
        "id": "nmJ9ra7nYvUi",
        "outputId": "de017470-b148-44ac-9965-bf4d1ff3237a"
      },
      "execution_count": 22,
      "outputs": [
        {
          "output_type": "stream",
          "name": "stdout",
          "text": [
            "Requirement already satisfied: mne in /usr/local/lib/python3.10/dist-packages (1.7.1)\n",
            "Requirement already satisfied: decorator in /usr/local/lib/python3.10/dist-packages (from mne) (4.4.2)\n",
            "Requirement already satisfied: jinja2 in /usr/local/lib/python3.10/dist-packages (from mne) (3.1.4)\n",
            "Requirement already satisfied: lazy-loader>=0.3 in /usr/local/lib/python3.10/dist-packages (from mne) (0.4)\n",
            "Requirement already satisfied: matplotlib>=3.5.0 in /usr/local/lib/python3.10/dist-packages (from mne) (3.7.1)\n",
            "Requirement already satisfied: numpy>=1.21.2 in /usr/local/lib/python3.10/dist-packages (from mne) (1.25.2)\n",
            "Requirement already satisfied: packaging in /usr/local/lib/python3.10/dist-packages (from mne) (24.1)\n",
            "Requirement already satisfied: pooch>=1.5 in /usr/local/lib/python3.10/dist-packages (from mne) (1.8.2)\n",
            "Requirement already satisfied: scipy>=1.7.1 in /usr/local/lib/python3.10/dist-packages (from mne) (1.11.4)\n",
            "Requirement already satisfied: tqdm in /usr/local/lib/python3.10/dist-packages (from mne) (4.66.4)\n",
            "Requirement already satisfied: contourpy>=1.0.1 in /usr/local/lib/python3.10/dist-packages (from matplotlib>=3.5.0->mne) (1.2.1)\n",
            "Requirement already satisfied: cycler>=0.10 in /usr/local/lib/python3.10/dist-packages (from matplotlib>=3.5.0->mne) (0.12.1)\n",
            "Requirement already satisfied: fonttools>=4.22.0 in /usr/local/lib/python3.10/dist-packages (from matplotlib>=3.5.0->mne) (4.53.1)\n",
            "Requirement already satisfied: kiwisolver>=1.0.1 in /usr/local/lib/python3.10/dist-packages (from matplotlib>=3.5.0->mne) (1.4.5)\n",
            "Requirement already satisfied: pillow>=6.2.0 in /usr/local/lib/python3.10/dist-packages (from matplotlib>=3.5.0->mne) (9.4.0)\n",
            "Requirement already satisfied: pyparsing>=2.3.1 in /usr/local/lib/python3.10/dist-packages (from matplotlib>=3.5.0->mne) (3.1.2)\n",
            "Requirement already satisfied: python-dateutil>=2.7 in /usr/local/lib/python3.10/dist-packages (from matplotlib>=3.5.0->mne) (2.8.2)\n",
            "Requirement already satisfied: platformdirs>=2.5.0 in /usr/local/lib/python3.10/dist-packages (from pooch>=1.5->mne) (4.2.2)\n",
            "Requirement already satisfied: requests>=2.19.0 in /usr/local/lib/python3.10/dist-packages (from pooch>=1.5->mne) (2.31.0)\n",
            "Requirement already satisfied: MarkupSafe>=2.0 in /usr/local/lib/python3.10/dist-packages (from jinja2->mne) (2.1.5)\n",
            "Requirement already satisfied: six>=1.5 in /usr/local/lib/python3.10/dist-packages (from python-dateutil>=2.7->matplotlib>=3.5.0->mne) (1.16.0)\n",
            "Requirement already satisfied: charset-normalizer<4,>=2 in /usr/local/lib/python3.10/dist-packages (from requests>=2.19.0->pooch>=1.5->mne) (3.3.2)\n",
            "Requirement already satisfied: idna<4,>=2.5 in /usr/local/lib/python3.10/dist-packages (from requests>=2.19.0->pooch>=1.5->mne) (3.7)\n",
            "Requirement already satisfied: urllib3<3,>=1.21.1 in /usr/local/lib/python3.10/dist-packages (from requests>=2.19.0->pooch>=1.5->mne) (2.0.7)\n",
            "Requirement already satisfied: certifi>=2017.4.17 in /usr/local/lib/python3.10/dist-packages (from requests>=2.19.0->pooch>=1.5->mne) (2024.7.4)\n",
            "Requirement already satisfied: BOWaves in /usr/local/lib/python3.10/dist-packages (0.0.25)\n"
          ]
        }
      ]
    },
    {
      "cell_type": "markdown",
      "source": [
        "Load data"
      ],
      "metadata": {
        "id": "CCjUpUnNYsZB"
      }
    },
    {
      "cell_type": "code",
      "execution_count": 58,
      "metadata": {
        "id": "SaieIilgPKP0"
      },
      "outputs": [],
      "source": [
        "sig_fn_1 = 'cue_subj_01_chunked.npz'\n",
        "fl = 12\n",
        "sfreq = 512\n",
        "n_components = 63\n",
        "sig_fns = [sig_fn_1]\n",
        "dm_lis = []\n",
        "mm_lis = []\n",
        "N_ = []\n",
        "for i in range(fl):\n",
        "    fn = 'icaweights0' + str(i+1) + '.mat'\n",
        "    dm_lis.append(fn)\n",
        "for i in range(fl):\n",
        "    fn = 'icawinv0' + str(i+1) + '.mat'\n",
        "    mm_lis.append(fn)\n",
        "dm1, dm2, dm3, dm4, dm5, dm6, dm7, dm8, dm9, dm10, dm11, dm12 = dm_lis\n",
        "mm1, mm2, mm3, mm4, mm5, mm6, mm7, mm8, mm9, mm10, mm11, mm12 = mm_lis\n",
        "for i in range(len(dm_lis)):\n",
        "    dm_lis[i] = sio.loadmat(dm_lis[i])\n",
        "    mm_lis[i] = sio.loadmat(mm_lis[i])\n",
        "for i in range(len(dm_lis)):\n",
        "    # Access the arrays within the dictionaries using the appropriate keys\n",
        "    # Assuming 'icaweights' and 'icawinv' are the keys for the arrays in the .mat files\n",
        "    N_.append(np.concatenate((dm_lis[i]['icaweights'][1,:], mm_lis[i]['icawinv'][:,1])))"
      ]
    },
    {
      "cell_type": "code",
      "source": [],
      "metadata": {
        "colab": {
          "base_uri": "https://localhost:8080/"
        },
        "id": "kMRbnN_ztI8_",
        "outputId": "9995be1a-f338-4b54-c6da-a4f3551babee"
      },
      "execution_count": 48,
      "outputs": [
        {
          "output_type": "execute_result",
          "data": {
            "text/plain": [
              "-0.06793365240134176"
            ]
          },
          "metadata": {},
          "execution_count": 48
        }
      ]
    },
    {
      "cell_type": "markdown",
      "source": [
        "Create topo maps"
      ],
      "metadata": {
        "id": "J6H963biYpZn"
      }
    },
    {
      "cell_type": "code",
      "source": [
        "info = mne.create_info(64, sfreq, ch_types='eeg')\n",
        "\n",
        "# Get the channel names from the biosemi256 montage\n",
        "biosemi256_montage = mne.channels.make_standard_montage('biosemi128')\n",
        "biosemi256_channel_names = biosemi256_montage.ch_names\n",
        "\n",
        "# Select the first 63 channel names to match your data\n",
        "relevant_channel_names = biosemi256_channel_names[:64]\n",
        "\n",
        "# Rename the channels in your info object\n",
        "mapping = {str(i): name for i, name in enumerate(relevant_channel_names)}\n",
        "info.rename_channels(mapping)\n",
        "\n",
        "# Now you can set the montage\n",
        "info.set_montage('biosemi128')\n",
        "for j in range(n_components):\n",
        "    mne.viz.plot_topomap(N_[0][j], info)"
      ],
      "metadata": {
        "colab": {
          "base_uri": "https://localhost:8080/",
          "height": 467
        },
        "id": "Tb71F2qAYpB2",
        "outputId": "c7038fad-e872-44e5-9cdc-ea23f92957ad"
      },
      "execution_count": 37,
      "outputs": [
        {
          "output_type": "error",
          "ename": "IndexError",
          "evalue": "tuple index out of range",
          "traceback": [
            "\u001b[0;31m---------------------------------------------------------------------------\u001b[0m",
            "\u001b[0;31mIndexError\u001b[0m                                Traceback (most recent call last)",
            "\u001b[0;32m<ipython-input-37-71caf07f2e87>\u001b[0m in \u001b[0;36m<cell line: 16>\u001b[0;34m()\u001b[0m\n\u001b[1;32m     15\u001b[0m \u001b[0minfo\u001b[0m\u001b[0;34m.\u001b[0m\u001b[0mset_montage\u001b[0m\u001b[0;34m(\u001b[0m\u001b[0;34m'biosemi128'\u001b[0m\u001b[0;34m)\u001b[0m\u001b[0;34m\u001b[0m\u001b[0;34m\u001b[0m\u001b[0m\n\u001b[1;32m     16\u001b[0m \u001b[0;32mfor\u001b[0m \u001b[0mj\u001b[0m \u001b[0;32min\u001b[0m \u001b[0mrange\u001b[0m\u001b[0;34m(\u001b[0m\u001b[0mn_components\u001b[0m\u001b[0;34m)\u001b[0m\u001b[0;34m:\u001b[0m\u001b[0;34m\u001b[0m\u001b[0;34m\u001b[0m\u001b[0m\n\u001b[0;32m---> 17\u001b[0;31m     \u001b[0mmne\u001b[0m\u001b[0;34m.\u001b[0m\u001b[0mviz\u001b[0m\u001b[0;34m.\u001b[0m\u001b[0mplot_topomap\u001b[0m\u001b[0;34m(\u001b[0m\u001b[0mN_\u001b[0m\u001b[0;34m[\u001b[0m\u001b[0;36m0\u001b[0m\u001b[0;34m]\u001b[0m\u001b[0;34m[\u001b[0m\u001b[0mj\u001b[0m\u001b[0;34m]\u001b[0m\u001b[0;34m,\u001b[0m \u001b[0minfo\u001b[0m\u001b[0;34m)\u001b[0m\u001b[0;34m\u001b[0m\u001b[0;34m\u001b[0m\u001b[0m\n\u001b[0m",
            "\u001b[0;32m/usr/local/lib/python3.10/dist-packages/mne/viz/topomap.py\u001b[0m in \u001b[0;36mplot_topomap\u001b[0;34m(data, pos, ch_type, sensors, names, mask, mask_params, contours, outlines, sphere, image_interp, extrapolate, border, res, size, cmap, vlim, cnorm, axes, show, onselect)\u001b[0m\n\u001b[1;32m   1026\u001b[0m             \u001b[0;34mf\"vmax={cnorm.vmax}; ignoring additional vlim/vmin/vmax params.\"\u001b[0m\u001b[0;34m\u001b[0m\u001b[0;34m\u001b[0m\u001b[0m\n\u001b[1;32m   1027\u001b[0m         )\n\u001b[0;32m-> 1028\u001b[0;31m     return _plot_topomap(\n\u001b[0m\u001b[1;32m   1029\u001b[0m         \u001b[0mdata\u001b[0m\u001b[0;34m,\u001b[0m\u001b[0;34m\u001b[0m\u001b[0;34m\u001b[0m\u001b[0m\n\u001b[1;32m   1030\u001b[0m         \u001b[0mpos\u001b[0m\u001b[0;34m,\u001b[0m\u001b[0;34m\u001b[0m\u001b[0;34m\u001b[0m\u001b[0m\n",
            "\u001b[0;32m/usr/local/lib/python3.10/dist-packages/mne/viz/topomap.py\u001b[0m in \u001b[0;36m_plot_topomap\u001b[0;34m(data, pos, axes, ch_type, sensors, names, mask, mask_params, contours, outlines, sphere, image_interp, extrapolate, border, res, cmap, vmin, vmax, cnorm, show, onselect)\u001b[0m\n\u001b[1;32m   1218\u001b[0m         \u001b[0;32mif\u001b[0m \u001b[0mlen\u001b[0m\u001b[0;34m(\u001b[0m\u001b[0mch_type\u001b[0m\u001b[0;34m)\u001b[0m \u001b[0;34m>\u001b[0m \u001b[0;36m1\u001b[0m\u001b[0;34m:\u001b[0m\u001b[0;34m\u001b[0m\u001b[0;34m\u001b[0m\u001b[0m\n\u001b[1;32m   1219\u001b[0m             \u001b[0;32mraise\u001b[0m \u001b[0mValueError\u001b[0m\u001b[0;34m(\u001b[0m\u001b[0;34m\"Multiple channel types in Info structure. \"\u001b[0m \u001b[0;34m+\u001b[0m \u001b[0minfo_help\u001b[0m\u001b[0;34m)\u001b[0m\u001b[0;34m\u001b[0m\u001b[0;34m\u001b[0m\u001b[0m\n\u001b[0;32m-> 1220\u001b[0;31m         \u001b[0;32melif\u001b[0m \u001b[0mlen\u001b[0m\u001b[0;34m(\u001b[0m\u001b[0mpos\u001b[0m\u001b[0;34m[\u001b[0m\u001b[0;34m\"chs\"\u001b[0m\u001b[0;34m]\u001b[0m\u001b[0;34m)\u001b[0m \u001b[0;34m!=\u001b[0m \u001b[0mdata\u001b[0m\u001b[0;34m.\u001b[0m\u001b[0mshape\u001b[0m\u001b[0;34m[\u001b[0m\u001b[0;36m0\u001b[0m\u001b[0;34m]\u001b[0m\u001b[0;34m:\u001b[0m\u001b[0;34m\u001b[0m\u001b[0;34m\u001b[0m\u001b[0m\n\u001b[0m\u001b[1;32m   1221\u001b[0m             raise ValueError(\n\u001b[1;32m   1222\u001b[0m                 \u001b[0;34mf\"Number of channels in the Info object ({len(pos['chs'])}) and the \"\u001b[0m\u001b[0;34m\u001b[0m\u001b[0;34m\u001b[0m\u001b[0m\n",
            "\u001b[0;31mIndexError\u001b[0m: tuple index out of range"
          ]
        },
        {
          "output_type": "display_data",
          "data": {
            "text/plain": [
              "<Figure size 100x100 with 1 Axes>"
            ],
            "image/png": "[encoded data removed]"
          },
          "metadata": {}
        }
      ]
    },
    {
      "cell_type": "markdown",
      "source": [
        "Grab Windows"
      ],
      "metadata": {
        "id": "aTA6ly8nWQdA"
      }
    },
    {
      "cell_type": "code",
      "source": [
        "def check_rng(seed):\n",
        "    \"\"\"Turn seed into a np.random.Generator instance\n",
        "\n",
        "    Parameters\n",
        "    ----------\n",
        "    seed : None, int or instance of Generator\n",
        "        If seed is None, return the Generator using the OS entropy.\n",
        "        If seed is an int, return a new Generator instance seeded with seed.\n",
        "        If seed is already a Generator instance, return it.\n",
        "        Otherwise raise ValueError.\n",
        "    \"\"\"\n",
        "    if seed is None:\n",
        "        return np.random.default_rng()\n",
        "    if isinstance(seed, numbers.Integral):\n",
        "        seed = np.random.SeedSequence(seed)\n",
        "        return np.random.default_rng(seed)\n",
        "    if isinstance(seed, np.random.Generator):\n",
        "        return seed\n",
        "\n",
        "    raise ValueError('%r cannot be used to seed a numpy.random.Generator'\n",
        "                     ' instance' % seed)\n",
        "\n",
        "def pick_random_windows(X, n_windows, window_length, rng=None):\n",
        "    \"\"\"\n",
        "    It picks windows randomly from each row of `X`.\n",
        "\n",
        "    Parameters\n",
        "    ----------\n",
        "    X (numpy.ndarray):\n",
        "        Matrix with data samples in its rows.\n",
        "    n_windows (int):\n",
        "        Number of unique windows per sample. Windows are taken randomly, but\n",
        "        each window is different.\n",
        "    window_length (int):\n",
        "        Lenght of the window\n",
        "    rng (int, Generator instance, or None):\n",
        "        Determines random number generation for picking the windows. Use an\n",
        "        int to make the randomness deterministic.\n",
        "\n",
        "    Returns\n",
        "    -------\n",
        "    Y (numpy.ndarray):\n",
        "        Windows of rows of `X` selected randomly\n",
        "\n",
        "    Shapes\n",
        "    ------\n",
        "    X : (`n_samples`, `n_features`)\n",
        "    Y : (`n_samples`, `n_windows`, `window_length`)\n",
        "    \"\"\"\n",
        "\n",
        "    if X.ndim == 1:\n",
        "        X = X[np.newaxis, :]\n",
        "\n",
        "    n_samples, n_features = X.shape\n",
        "    n_bytes_per_element = X.dtype.itemsize\n",
        "    n_offsets = n_features - window_length + 1\n",
        "    peak_memory_use = n_samples * n_offsets * window_length \\\n",
        "                      * n_bytes_per_element\n",
        "\n",
        "    rng = check_rng(rng)"
      ],
      "metadata": {
        "id": "YCdAPhlCW-bk"
      },
      "execution_count": 23,
      "outputs": []
    },
    {
      "cell_type": "code",
      "source": [
        "from BOWaves.utilities.sikmeans_utils import pick_random_windows as prw"
      ],
      "metadata": {
        "id": "ZKFIiA1Mw1_Q"
      },
      "execution_count": 51,
      "outputs": []
    },
    {
      "cell_type": "code",
      "source": [],
      "metadata": {
        "id": "J7kwTR8B8Jd1"
      },
      "execution_count": null,
      "outputs": []
    },
    {
      "cell_type": "code",
      "source": [
        "# pick_random_windows(S_,2000,2)\n",
        "windows = []\n",
        "for i, filename in enumerate(sig_fns):\n",
        "  time_ser = np.load(filename, allow_pickle=True)['icaact'][0]\n",
        "  print(time_ser.shape)\n",
        "  for k in range(n_components):\n",
        "    win = prw(time_ser, 25, 2, None)\n",
        "\n",
        "si_pairwise_distances_argmin_min_scipyvq(win, 400, 'cosine', np.linalg.norm(win, axis=1))\n"
      ],
      "metadata": {
        "colab": {
          "base_uri": "https://localhost:8080/",
          "height": 332
        },
        "id": "3AeFdSMWBJ9B",
        "outputId": "d434b2ba-3b41-49ad-c144-da769f95b47f"
      },
      "execution_count": 82,
      "outputs": [
        {
          "output_type": "stream",
          "name": "stdout",
          "text": [
            "(63, 7680)\n"
          ]
        },
        {
          "output_type": "error",
          "ename": "AttributeError",
          "evalue": "'int' object has no attribute 'ndim'",
          "traceback": [
            "\u001b[0;31m---------------------------------------------------------------------------\u001b[0m",
            "\u001b[0;31mAttributeError\u001b[0m                            Traceback (most recent call last)",
            "\u001b[0;32m<ipython-input-82-4de35b40eae6>\u001b[0m in \u001b[0;36m<cell line: 9>\u001b[0;34m()\u001b[0m\n\u001b[1;32m      7\u001b[0m     \u001b[0mwin\u001b[0m \u001b[0;34m=\u001b[0m \u001b[0mprw\u001b[0m\u001b[0;34m(\u001b[0m\u001b[0mtime_ser\u001b[0m\u001b[0;34m,\u001b[0m \u001b[0;36m25\u001b[0m\u001b[0;34m,\u001b[0m \u001b[0;36m2\u001b[0m\u001b[0;34m,\u001b[0m \u001b[0;32mNone\u001b[0m\u001b[0;34m)\u001b[0m\u001b[0;34m\u001b[0m\u001b[0;34m\u001b[0m\u001b[0m\n\u001b[1;32m      8\u001b[0m \u001b[0;34m\u001b[0m\u001b[0m\n\u001b[0;32m----> 9\u001b[0;31m \u001b[0msi_pairwise_distances_argmin_min_scipyvq\u001b[0m\u001b[0;34m(\u001b[0m\u001b[0mwin\u001b[0m\u001b[0;34m,\u001b[0m \u001b[0;36m400\u001b[0m\u001b[0;34m,\u001b[0m \u001b[0;34m'cosine'\u001b[0m\u001b[0;34m,\u001b[0m \u001b[0mnp\u001b[0m\u001b[0;34m.\u001b[0m\u001b[0mlinalg\u001b[0m\u001b[0;34m.\u001b[0m\u001b[0mnorm\u001b[0m\u001b[0;34m(\u001b[0m\u001b[0mwin\u001b[0m\u001b[0;34m,\u001b[0m \u001b[0maxis\u001b[0m\u001b[0;34m=\u001b[0m\u001b[0;36m1\u001b[0m\u001b[0;34m)\u001b[0m\u001b[0;34m)\u001b[0m\u001b[0;34m\u001b[0m\u001b[0;34m\u001b[0m\u001b[0m\n\u001b[0m",
            "\u001b[0;32m/usr/local/lib/python3.10/dist-packages/BOWaves/utilities/wrappers.py\u001b[0m in \u001b[0;36msi_pairwise_distances_argmin_min_scipyvq\u001b[0;34m(X, centroids, metric, x_squared_norms)\u001b[0m\n\u001b[1;32m    210\u001b[0m     \u001b[0;31m#if metric == 'euclidean' and x_squared_norms.ndim == 1:\u001b[0m\u001b[0;34m\u001b[0m\u001b[0;34m\u001b[0m\u001b[0m\n\u001b[1;32m    211\u001b[0m     \u001b[0;31m#    x_squared_norms = x_squared_norms.reshape(1, -1)\u001b[0m\u001b[0;34m\u001b[0m\u001b[0;34m\u001b[0m\u001b[0m\n\u001b[0;32m--> 212\u001b[0;31m     \u001b[0;32mif\u001b[0m \u001b[0mcentroids\u001b[0m\u001b[0;34m.\u001b[0m\u001b[0mndim\u001b[0m \u001b[0;34m==\u001b[0m \u001b[0;36m1\u001b[0m\u001b[0;34m:\u001b[0m\u001b[0;34m\u001b[0m\u001b[0;34m\u001b[0m\u001b[0m\n\u001b[0m\u001b[1;32m    213\u001b[0m         \u001b[0mcentroids\u001b[0m \u001b[0;34m=\u001b[0m \u001b[0mcentroids\u001b[0m\u001b[0;34m.\u001b[0m\u001b[0mreshape\u001b[0m\u001b[0;34m(\u001b[0m\u001b[0;36m1\u001b[0m\u001b[0;34m,\u001b[0m \u001b[0;34m-\u001b[0m\u001b[0;36m1\u001b[0m\u001b[0;34m)\u001b[0m\u001b[0;34m\u001b[0m\u001b[0;34m\u001b[0m\u001b[0m\n\u001b[1;32m    214\u001b[0m \u001b[0;34m\u001b[0m\u001b[0m\n",
            "\u001b[0;31mAttributeError\u001b[0m: 'int' object has no attribute 'ndim'"
          ]
        }
      ]
    },
    {
      "cell_type": "code",
      "source": [
        "# Calculate centroids (example using k-means)\n",
        "from sklearn.cluster import KMeans\n",
        "kmeans = KMeans(n_clusters=34, random_state=0, n_init='auto').fit(win.reshape(win.shape[0], -1))\n",
        "centroids = kmeans.cluster_centers_\n",
        "\n",
        "# Call the function with the calculated centroids\n",
        "si_pairwise_distances_argmin_min_scipyvq(win_reshaped, centroids, 'cosine', np.linalg.norm(win, axis=(1,2)))"
      ],
      "metadata": {
        "colab": {
          "base_uri": "https://localhost:8080/"
        },
        "id": "T1jQA1OaEst1",
        "outputId": "4ac843a3-ed67-44a5-92db-99ad6eaf7d79"
      },
      "execution_count": 87,
      "outputs": [
        {
          "output_type": "execute_result",
          "data": {
            "text/plain": [
              "(array([11, 31,  9, 29,  7,  5, 32,  4, 33,  4, 30, 26,  1, 30, 17,  6, 18,\n",
              "        22,  1, 22, 20,  9,  1, 16, 13,  2,  8, 15, 15,  0,  3,  2,  6,  3,\n",
              "        25, 16, 12, 22, 14,  5, 29, 22, 24,  3,  0,  1, 19, 26,  4, 21, 10,\n",
              "         1, 21, 30, 22, 22, 30, 27, 22, 28, 13,  9, 23]),\n",
              " array([0, 0, 0, 0, 0, 0, 0, 0, 0, 0, 0, 0, 0, 0, 0, 0, 0, 0, 0, 0, 0, 0,\n",
              "        0, 0, 0, 0, 0, 0, 0, 0, 0, 0, 0, 0, 0, 0, 0, 0, 0, 0, 0, 0, 0, 0,\n",
              "        0, 0, 0, 0, 0, 0, 0, 0, 0, 0, 0, 0, 0, 0, 0, 0, 0, 0, 0]),\n",
              " array([0.00000000e+00, 0.00000000e+00, 0.00000000e+00, 0.00000000e+00,\n",
              "        0.00000000e+00, 1.03915186e+00, 1.49011612e-08, 0.00000000e+00,\n",
              "        1.49011612e-08, 1.01717692e+00, 9.88432599e-01, 1.02046716e+00,\n",
              "        7.71184398e-01, 1.09848632e+00, 0.00000000e+00, 1.07506195e+00,\n",
              "        0.00000000e+00, 9.35888568e-01, 8.40405275e-01, 1.09005226e+00,\n",
              "        0.00000000e+00, 1.14646562e+00, 8.86001348e-01, 0.00000000e+00,\n",
              "        1.16214971e+00, 1.08187469e+00, 0.00000000e+00, 1.02257710e+00,\n",
              "        0.00000000e+00, 9.09958029e-01, 0.00000000e+00, 0.00000000e+00,\n",
              "        1.49011612e-08, 7.96980322e-01, 0.00000000e+00, 1.01623104e+00,\n",
              "        0.00000000e+00, 1.09235955e+00, 1.49011612e-08, 0.00000000e+00,\n",
              "        9.90594476e-01, 1.03754171e+00, 0.00000000e+00, 8.68198443e-01,\n",
              "        0.00000000e+00, 8.96864654e-01, 0.00000000e+00, 8.81485917e-01,\n",
              "        1.04342974e+00, 1.17526388e+00, 0.00000000e+00, 8.41399802e-01,\n",
              "        0.00000000e+00, 9.47736814e-01, 1.14316926e+00, 1.01322996e+00,\n",
              "        8.06588992e-01, 0.00000000e+00, 1.07496837e+00, 0.00000000e+00,\n",
              "        2.10734243e-08, 8.45295443e-01, 0.00000000e+00]))"
            ]
          },
          "metadata": {},
          "execution_count": 87
        }
      ]
    },
    {
      "cell_type": "code",
      "source": [
        "win.shape\n",
        "win_reshaped = win.reshape(win.shape[0], -1)\n",
        "win_reshaped.shape"
      ],
      "metadata": {
        "colab": {
          "base_uri": "https://localhost:8080/"
        },
        "id": "iryqTJAmNq2M",
        "outputId": "37f9c18e-fe12-466c-9276-5be2d45e385c"
      },
      "execution_count": 86,
      "outputs": [
        {
          "output_type": "execute_result",
          "data": {
            "text/plain": [
              "(63, 50)"
            ]
          },
          "metadata": {},
          "execution_count": 86
        }
      ]
    }
  ]
}