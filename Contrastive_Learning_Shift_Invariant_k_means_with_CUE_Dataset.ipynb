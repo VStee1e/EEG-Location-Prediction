{
  "nbformat": 4,
  "nbformat_minor": 0,
  "metadata": {
    "colab": {
      "provenance": [],
      "authorship_tag": "ABX9TyN3zWDms5n3YP48Yj9dMUwD",
      "include_colab_link": true
    },
    "kernelspec": {
      "name": "python3",
      "display_name": "Python 3"
    },
    "language_info": {
      "name": "python"
    }
  },
  "cells": [
    {
      "cell_type": "markdown",
      "metadata": {
        "id": "view-in-github",
        "colab_type": "text"
      },
      "source": [
        "<a href=\"https://colab.research.google.com/github/VStee1e/EEG-Location-Prediction/blob/main/Contrastive_Learning_Shift_Invariant_k_means_with_CUE_Dataset.ipynb\" target=\"_parent\"><img src=\"https://colab.research.google.com/assets/colab-badge.svg\" alt=\"Open In Colab\"/></a>"
      ]
    },
    {
      "cell_type": "markdown",
      "source": [
        "Import packages"
      ],
      "metadata": {
        "id": "-YQipE6cYvij"
      }
    },
    {
      "cell_type": "code",
      "source": [
        "!pip install mne\n",
        "!pip install BOWaves\n",
        "import mne\n",
        "import numpy as np\n",
        "import scipy.io as sio\n",
        "import os\n",
        "import fnmatch\n",
        "# import numpy as np\n",
        "# import mne\n",
        "import pandas as pd\n",
        "import csv\n",
        "import matplotlib.pyplot as plt\n",
        "import time\n",
        "from BOWaves.sikmeans import sikmeans_core\n",
        "from BOWaves.utilities.wrappers import si_pairwise_distances_argmin_min\n",
        "from BOWaves.utilities.wrappers import si_pairwise_distances_argmin_min_scipyvq as do_not_use\n",
        "import scipy.signal as signal\n",
        "\n",
        "from scipy.signal import fftconvolve\n",
        "from scipy.cluster import vq\n",
        "import numbers\n"
      ],
      "metadata": {
        "colab": {
          "base_uri": "https://localhost:8080/"
        },
        "collapsed": true,
        "id": "nmJ9ra7nYvUi",
        "outputId": "56faccb1-3dee-4520-d3fe-b1aa45f7cfcd"
      },
      "execution_count": 1,
      "outputs": [
        {
          "output_type": "stream",
          "name": "stdout",
          "text": [
            "Collecting mne\n",
            "  Downloading mne-1.7.1-py3-none-any.whl (7.4 MB)\n",
            "\u001b[2K     \u001b[90m━━━━━━━━━━━━━━━━━━━━━━━━━━━━━━━━━━━━━━━━\u001b[0m \u001b[32m7.4/7.4 MB\u001b[0m \u001b[31m18.4 MB/s\u001b[0m eta \u001b[36m0:00:00\u001b[0m\n",
            "\u001b[?25hRequirement already satisfied: decorator in /usr/local/lib/python3.10/dist-packages (from mne) (4.4.2)\n",
            "Requirement already satisfied: jinja2 in /usr/local/lib/python3.10/dist-packages (from mne) (3.1.4)\n",
            "Requirement already satisfied: lazy-loader>=0.3 in /usr/local/lib/python3.10/dist-packages (from mne) (0.4)\n",
            "Requirement already satisfied: matplotlib>=3.5.0 in /usr/local/lib/python3.10/dist-packages (from mne) (3.7.1)\n",
            "Requirement already satisfied: numpy>=1.21.2 in /usr/local/lib/python3.10/dist-packages (from mne) (1.25.2)\n",
            "Requirement already satisfied: packaging in /usr/local/lib/python3.10/dist-packages (from mne) (24.1)\n",
            "Requirement already satisfied: pooch>=1.5 in /usr/local/lib/python3.10/dist-packages (from mne) (1.8.2)\n",
            "Requirement already satisfied: scipy>=1.7.1 in /usr/local/lib/python3.10/dist-packages (from mne) (1.11.4)\n",
            "Requirement already satisfied: tqdm in /usr/local/lib/python3.10/dist-packages (from mne) (4.66.4)\n",
            "Requirement already satisfied: contourpy>=1.0.1 in /usr/local/lib/python3.10/dist-packages (from matplotlib>=3.5.0->mne) (1.2.1)\n",
            "Requirement already satisfied: cycler>=0.10 in /usr/local/lib/python3.10/dist-packages (from matplotlib>=3.5.0->mne) (0.12.1)\n",
            "Requirement already satisfied: fonttools>=4.22.0 in /usr/local/lib/python3.10/dist-packages (from matplotlib>=3.5.0->mne) (4.53.1)\n",
            "Requirement already satisfied: kiwisolver>=1.0.1 in /usr/local/lib/python3.10/dist-packages (from matplotlib>=3.5.0->mne) (1.4.5)\n",
            "Requirement already satisfied: pillow>=6.2.0 in /usr/local/lib/python3.10/dist-packages (from matplotlib>=3.5.0->mne) (9.4.0)\n",
            "Requirement already satisfied: pyparsing>=2.3.1 in /usr/local/lib/python3.10/dist-packages (from matplotlib>=3.5.0->mne) (3.1.2)\n",
            "Requirement already satisfied: python-dateutil>=2.7 in /usr/local/lib/python3.10/dist-packages (from matplotlib>=3.5.0->mne) (2.8.2)\n",
            "Requirement already satisfied: platformdirs>=2.5.0 in /usr/local/lib/python3.10/dist-packages (from pooch>=1.5->mne) (4.2.2)\n",
            "Requirement already satisfied: requests>=2.19.0 in /usr/local/lib/python3.10/dist-packages (from pooch>=1.5->mne) (2.31.0)\n",
            "Requirement already satisfied: MarkupSafe>=2.0 in /usr/local/lib/python3.10/dist-packages (from jinja2->mne) (2.1.5)\n",
            "Requirement already satisfied: six>=1.5 in /usr/local/lib/python3.10/dist-packages (from python-dateutil>=2.7->matplotlib>=3.5.0->mne) (1.16.0)\n",
            "Requirement already satisfied: charset-normalizer<4,>=2 in /usr/local/lib/python3.10/dist-packages (from requests>=2.19.0->pooch>=1.5->mne) (3.3.2)\n",
            "Requirement already satisfied: idna<4,>=2.5 in /usr/local/lib/python3.10/dist-packages (from requests>=2.19.0->pooch>=1.5->mne) (3.7)\n",
            "Requirement already satisfied: urllib3<3,>=1.21.1 in /usr/local/lib/python3.10/dist-packages (from requests>=2.19.0->pooch>=1.5->mne) (2.0.7)\n",
            "Requirement already satisfied: certifi>=2017.4.17 in /usr/local/lib/python3.10/dist-packages (from requests>=2.19.0->pooch>=1.5->mne) (2024.7.4)\n",
            "Installing collected packages: mne\n",
            "Successfully installed mne-1.7.1\n",
            "Collecting BOWaves\n",
            "  Downloading BOWaves-0.0.25-py3-none-any.whl (27 kB)\n",
            "Installing collected packages: BOWaves\n",
            "Successfully installed BOWaves-0.0.25\n"
          ]
        }
      ]
    },
    {
      "cell_type": "markdown",
      "source": [
        "Load data"
      ],
      "metadata": {
        "id": "CCjUpUnNYsZB"
      }
    },
    {
      "cell_type": "code",
      "execution_count": 2,
      "metadata": {
        "id": "SaieIilgPKP0",
        "colab": {
          "base_uri": "https://localhost:8080/",
          "height": 106
        },
        "outputId": "679ac20b-aef0-4e88-bf9e-7b22d4ace696"
      },
      "outputs": [
        {
          "output_type": "error",
          "ename": "SyntaxError",
          "evalue": "'break' outside loop (<ipython-input-2-1b4e6a257fed>, line 9)",
          "traceback": [
            "\u001b[0;36m  File \u001b[0;32m\"<ipython-input-2-1b4e6a257fed>\"\u001b[0;36m, line \u001b[0;32m9\u001b[0m\n\u001b[0;31m    break\u001b[0m\n\u001b[0m    ^\u001b[0m\n\u001b[0;31mSyntaxError\u001b[0m\u001b[0;31m:\u001b[0m 'break' outside loop\n"
          ]
        }
      ],
      "source": [
        "sig_fn_1 = 'cue_subj_01_chunked.npz'\n",
        "fl = 12\n",
        "sfreq = 512\n",
        "n_components = 63\n",
        "sig_fns = [sig_fn_1]\n",
        "dm_lis = []\n",
        "mm_lis = []\n",
        "N_ = []\n",
        "break\n",
        "for i in range(fl):\n",
        "    fn = 'icaweights0' + str(i+1) + '.mat'\n",
        "    dm_lis.append(fn)\n",
        "for i in range(fl):\n",
        "    fn = 'icawinv0' + str(i+1) + '.mat'\n",
        "    mm_lis.append(fn)\n",
        "dm1, dm2, dm3, dm4, dm5, dm6, dm7, dm8, dm9, dm10, dm11, dm12 = dm_lis\n",
        "mm1, mm2, mm3, mm4, mm5, mm6, mm7, mm8, mm9, mm10, mm11, mm12 = mm_lis\n",
        "for i in range(len(dm_lis)):\n",
        "    dm_lis[i] = sio.loadmat(dm_lis[i])\n",
        "    mm_lis[i] = sio.loadmat(mm_lis[i])\n",
        "for i in range(len(dm_lis)):\n",
        "    # Access the arrays within the dictionaries using the appropriate keys\n",
        "    # Assuming 'icaweights' and 'icawinv' are the keys for the arrays in the .mat files\n",
        "    N_.append(np.concatenate((dm_lis[i]['icaweights'][1,:], mm_lis[i]['icawinv'][:,1])))"
      ]
    },
    {
      "cell_type": "code",
      "source": [],
      "metadata": {
        "id": "kMRbnN_ztI8_"
      },
      "execution_count": null,
      "outputs": []
    },
    {
      "cell_type": "markdown",
      "source": [
        "Create topo maps"
      ],
      "metadata": {
        "id": "J6H963biYpZn"
      }
    },
    {
      "cell_type": "code",
      "source": [
        "info = mne.create_info(64, sfreq, ch_types='eeg')\n",
        "\n",
        "# Get the channel names from the biosemi256 montage\n",
        "biosemi256_montage = mne.channels.make_standard_montage('biosemi128')\n",
        "biosemi256_channel_names = biosemi256_montage.ch_names\n",
        "\n",
        "# Select the first 63 channel names to match your data\n",
        "relevant_channel_names = biosemi256_channel_names[:64]\n",
        "\n",
        "# Rename the channels in your info object\n",
        "mapping = {str(i): name for i, name in enumerate(relevant_channel_names)}\n",
        "info.rename_channels(mapping)\n",
        "\n",
        "# Now you can set the montage\n",
        "info.set_montage('biosemi128')\n",
        "for j in range(n_components):\n",
        "    mne.viz.plot_topomap(N_[0][j], info)"
      ],
      "metadata": {
        "id": "Tb71F2qAYpB2"
      },
      "execution_count": null,
      "outputs": []
    },
    {
      "cell_type": "markdown",
      "source": [
        "Grab Windows"
      ],
      "metadata": {
        "id": "aTA6ly8nWQdA"
      }
    },
    {
      "cell_type": "code",
      "source": [
        "def check_rng(seed):\n",
        "    \"\"\"Turn seed into a np.random.Generator instance\n",
        "\n",
        "    Parameters\n",
        "    ----------\n",
        "    seed : None, int or instance of Generator\n",
        "        If seed is None, return the Generator using the OS entropy.\n",
        "        If seed is an int, return a new Generator instance seeded with seed.\n",
        "        If seed is already a Generator instance, return it.\n",
        "        Otherwise raise ValueError.\n",
        "    \"\"\"\n",
        "    if seed is None:\n",
        "        return np.random.default_rng()\n",
        "    if isinstance(seed, numbers.Integral):\n",
        "        seed = np.random.SeedSequence(seed)\n",
        "        return np.random.default_rng(seed)\n",
        "    if isinstance(seed, np.random.Generator):\n",
        "        return seed\n",
        "\n",
        "    raise ValueError('%r cannot be used to seed a numpy.random.Generator'\n",
        "                     ' instance' % seed)\n",
        "\n",
        "def pick_random_windows(X, n_windows, window_length, rng=None):\n",
        "    \"\"\"\n",
        "    It picks windows randomly from each row of `X`.\n",
        "\n",
        "    Parameters\n",
        "    ----------\n",
        "    X (numpy.ndarray):\n",
        "        Matrix with data samples in its rows.\n",
        "    n_windows (int):\n",
        "        Number of unique windows per sample. Windows are taken randomly, but\n",
        "        each window is different.\n",
        "    window_length (int):\n",
        "        Lenght of the window\n",
        "    rng (int, Generator instance, or None):\n",
        "        Determines random number generation for picking the windows. Use an\n",
        "        int to make the randomness deterministic.\n",
        "\n",
        "    Returns\n",
        "    -------\n",
        "    Y (numpy.ndarray):\n",
        "        Windows of rows of `X` selected randomly\n",
        "\n",
        "    Shapes\n",
        "    ------\n",
        "    X : (`n_samples`, `n_features`)\n",
        "    Y : (`n_samples`, `n_windows`, `window_length`)\n",
        "    \"\"\"\n",
        "\n",
        "    if X.ndim == 1:\n",
        "        X = X[np.newaxis, :]\n",
        "\n",
        "    n_samples, n_features = X.shape\n",
        "    n_bytes_per_element = X.dtype.itemsize\n",
        "    n_offsets = n_features - window_length + 1\n",
        "    peak_memory_use = n_samples * n_offsets * window_length \\\n",
        "                      * n_bytes_per_element\n",
        "\n",
        "    rng = check_rng(rng)"
      ],
      "metadata": {
        "id": "YCdAPhlCW-bk"
      },
      "execution_count": 3,
      "outputs": []
    },
    {
      "cell_type": "code",
      "source": [
        "from BOWaves.utilities.sikmeans_utils import pick_random_windows as prw"
      ],
      "metadata": {
        "id": "ZKFIiA1Mw1_Q"
      },
      "execution_count": 4,
      "outputs": []
    },
    {
      "cell_type": "code",
      "source": [],
      "metadata": {
        "id": "J7kwTR8B8Jd1"
      },
      "execution_count": null,
      "outputs": []
    },
    {
      "cell_type": "code",
      "source": [
        "# pick_random_windows(S_,2000,2)\n",
        "windows = []\n",
        "for i, filename in enumerate(sig_fns):\n",
        "  time_ser = np.load(filename, allow_pickle=True)['icaact'][0]\n",
        "  print(time_ser.shape)\n",
        "  for k in range(n_components):\n",
        "    windows.append(prw(time_ser, 500, 2, None))\n",
        "# print(windows)\n",
        "win_across_ics = np.vstack(windows)\n",
        "print(win_across_ics.shape)\n",
        "# chunks = si_pairwise_distances_argmin_min_scipyvq(win_reshaped, centroids, 'cosine', np.linalg.norm(win, axis=1))\n"
      ],
      "metadata": {
        "colab": {
          "base_uri": "https://localhost:8080/"
        },
        "id": "3AeFdSMWBJ9B",
        "outputId": "12806f02-2aad-434f-efaf-092885e2e567"
      },
      "execution_count": 6,
      "outputs": [
        {
          "output_type": "stream",
          "name": "stdout",
          "text": [
            "(63, 7680)\n",
            "(3969, 500, 2)\n"
          ]
        }
      ]
    },
    {
      "cell_type": "code",
      "source": [
        "win_across_ics_reshaped = win_across_ics.reshape(win_across_ics.shape[0], -1)\n",
        "win_across_ics_reshaped.shape"
      ],
      "metadata": {
        "colab": {
          "base_uri": "https://localhost:8080/"
        },
        "id": "iryqTJAmNq2M",
        "outputId": "b32d81d6-a883-4d51-a297-fdaa17adabf0"
      },
      "execution_count": 7,
      "outputs": [
        {
          "output_type": "execute_result",
          "data": {
            "text/plain": [
              "(3969, 1000)"
            ]
          },
          "metadata": {},
          "execution_count": 7
        }
      ]
    },
    {
      "cell_type": "code",
      "source": [
        "import sys\n",
        "import numpy as np\n",
        "\n",
        "from sklearn.metrics.pairwise import euclidean_distances\n",
        "from sklearn.metrics.pairwise import pairwise_distances_argmin_min\n",
        "from sklearn.utils.extmath import row_norms\n",
        "from sklearn.preprocessing import normalize\n",
        "from scipy.cluster.vq import vq\n",
        "\n",
        "def shi_sgi_pairwise_distances_argmin_min_scipyvq(X, centroids, metric):\n",
        "    \"\"\"\n",
        "    Shift-invariant wrapper of argmin_min, but using scipy's vq instead.\n",
        "    Ablation based on 3rd comment of: https://stackoverflow.com/questions/21660937/get-nearest-point-to-centroid-scikit-learn\n",
        "\n",
        "    The scipy vq call by default uses the Euclidean metric. I'll implement that first and then add cosine\n",
        "    by just normalizing things before passing it in.\n",
        "\n",
        "    Parameters:\n",
        "    X (numpy.ndarray):\n",
        "        Training data. Rows of X are samples.\n",
        "    centroids (numpy.ndarray):\n",
        "        Centroids of the clusters.\n",
        "    x_squared_norms (numpy.ndarray):\n",
        "        Squared Euclidean norm of rows of X. This is used to speed up the\n",
        "        computation of the Euclidean distances between samples and centroids.\n",
        "    \"\"\"\n",
        "\n",
        "    # TODO - make sure to reproduce with set random seed\n",
        "    print('Hello from scipy')\n",
        "    # euclidean_distances() requires 2D\n",
        "\n",
        "    #first if-else commented out for testing\n",
        "    #if metric == 'euclidean' and x_squared_norms.ndim == 1:\n",
        "    #    x_squared_norms = x_squared_norms.reshape(1, -1)\n",
        "    if centroids.ndim == 1:\n",
        "        centroids = centroids.reshape(1, -1)\n",
        "\n",
        "    n_samples, sample_length = X.shape\n",
        "    centroid_length = centroids.shape[1]\n",
        "    n_shifts = sample_length - centroid_length + 1\n",
        "\n",
        "    best_labels = np.empty((n_shifts, n_samples), dtype=int)\n",
        "    best_distances = np.empty((n_shifts, n_samples))\n",
        "\n",
        "    if metric == 'euclidean':\n",
        "      new_centroids = []\n",
        "      for k in range(centroids):\n",
        "        cent = centroids[k, :]\n",
        "        inv_cent = negative(cent)\n",
        "        dist = pairwise_distances_argmin_min(inv_cent, Y=cent, axis=1, metric='euclidean')\n",
        "        if dist > 0:\n",
        "          cent = -2(cent) + 1\n",
        "        new_centroids.append(cent)\n",
        "      for shift in range(n_shifts):\n",
        "          # A bug on sklearn enforces a 2D array\n",
        "          #XX = x_squared_norms[shift].reshape((n_samples, 1))\n",
        "          best_labels[shift], best_distances[shift] = \\\n",
        "          vq(X[:, shift:shift+centroid_length], centroids,check_finite=False)\n",
        "    elif metric == 'cosine':\n",
        "      # if metric is cosine, just pass in the normalized centroids\n",
        "      normalized_centroids = normalize(centroids, axis=1)\n",
        "      # Dedent this for loop to align with the 'if' and 'elif' blocks\n",
        "      for shift in range(n_shifts):\n",
        "        best_labels[shift], best_distances[shift] = vq(X[:, shift:shift + centroid_length], normalized_centroids, check_finite=False)\n",
        "    else:\n",
        "        sys.exit('%s metric not implemented' % metric)\n",
        "\n",
        "    # For each sample, find best shift\n",
        "    best_shifts = np.argmin(best_distances, axis=0)\n",
        "    best_labels = best_labels[best_shifts, np.arange(n_samples)]\n",
        "    best_distances = best_distances[best_shifts, np.arange(n_samples)]\n",
        "\n",
        "    return best_labels, best_shifts, best_distances"
      ],
      "metadata": {
        "colab": {
          "base_uri": "https://localhost:8080/"
        },
        "id": "JZMHyUvseru7",
        "outputId": "0002e029-2a65-4091-86d9-70b4d9eb7e72"
      },
      "execution_count": 8,
      "outputs": [
        {
          "output_type": "stream",
          "name": "stderr",
          "text": [
            "<>:52: SyntaxWarning: 'int' object is not callable; perhaps you missed a comma?\n",
            "<>:52: SyntaxWarning: 'int' object is not callable; perhaps you missed a comma?\n",
            "<ipython-input-8-4893814f3fb4>:52: SyntaxWarning: 'int' object is not callable; perhaps you missed a comma?\n",
            "  cent = -2(cent) + 1\n"
          ]
        }
      ]
    },
    {
      "cell_type": "code",
      "source": [
        "def si_pairwise_distances_argmin_min_scipyvq(X, centroids, metric, squared_norms):\n",
        "    \"\"\"\n",
        "    Shift-invariant wrapper of argmin_min, but using scipy's vq instead.\n",
        "    Ablation based on 3rd comment of: https://stackoverflow.com/questions/21660937/get-nearest-point-to-centroid-scikit-learn\n",
        "\n",
        "    The scipy vq call by default uses the Euclidean metric. I'll implement that first and then add cosine\n",
        "    by just normalizing things before passing it in.\n",
        "\n",
        "    Parameters:\n",
        "    X (numpy.ndarray):\n",
        "        Training data. Rows of X are samples.\n",
        "    centroids (numpy.ndarray):\n",
        "        Centroids of the clusters.\n",
        "    x_squared_norms (numpy.ndarray):\n",
        "        Squared Euclidean norm of rows of X. This is used to speed up the\n",
        "        computation of the Euclidean distances between samples and centroids.\n",
        "    \"\"\"\n",
        "\n",
        "    # TODO - make sure to reproduce with set random seed\n",
        "    print('Hello from scipy')\n",
        "    # euclidean_distances() requires 2D\n",
        "\n",
        "    #first if-else commented out for testing\n",
        "    #if metric == 'euclidean' and x_squared_norms.ndim == 1:\n",
        "    #    x_squared_norms = x_squared_norms.reshape(1, -1)\n",
        "    if centroids.ndim == 1:\n",
        "        centroids = centroids.reshape(1, -1)\n",
        "\n",
        "    n_samples, sample_length = X.shape\n",
        "    centroid_length = centroids.shape[1]\n",
        "    n_shifts = sample_length - centroid_length + 1\n",
        "\n",
        "    best_labels = np.empty((n_shifts, n_samples), dtype=int)\n",
        "    best_distances = np.empty((n_shifts, n_samples))\n",
        "\n",
        "    if metric == 'euclidean':\n",
        "        for shift in range(n_shifts):\n",
        "            # A bug on sklearn enforces a 2D array\n",
        "            #XX = x_squared_norms[shift].reshape((n_samples, 1))\n",
        "            best_labels[shift], best_distances[shift] = \\\n",
        "                vq(X[:, shift:shift+centroid_length], centroids,check_finite=False)\n",
        "    elif metric == 'cosine':\n",
        "        # if metric is cosine, just pass in the normalized centroids\n",
        "        normalized_centroids = normalize(centroids, axis=1)\n",
        "        for shift in range(n_shifts):\n",
        "            best_labels[shift], best_distances[shift] = vq(X[:, shift:shift + centroid_length], normalized_centroids, check_finite=False)\n",
        "    else:\n",
        "        sys.exit('%s metric not implemented' % metric)\n",
        "\n",
        "    # For each sample, find best shift\n",
        "    best_shifts = np.argmin(best_distances, axis=0)\n",
        "    best_labels = best_labels[best_shifts, np.arange(n_samples)]\n",
        "    best_distances = best_distances[best_shifts, np.arange(n_samples)]\n",
        "\n",
        "    return best_labels, best_shifts, best_distances"
      ],
      "metadata": {
        "id": "66UaojR9nyMu"
      },
      "execution_count": 35,
      "outputs": []
    },
    {
      "cell_type": "code",
      "source": [
        "# Calculate centroids (example using k-means)\n",
        "from sklearn.cluster import KMeans\n",
        "from scipy.cluster.vq import vq\n",
        "kmeans = KMeans(n_clusters=200, random_state=0, n_init='auto').fit(win_across_ics.reshape(win_across_ics.shape[0], -1))\n",
        "centroids = kmeans.cluster_centers_\n",
        "plt.scatter(centroids[:, 0], centroids[:, 1], c='blue', s=50, marker='o')\n",
        "# Call the function with the calculated centroids\n",
        "waveforms = si_pairwise_distances_argmin_min_scipyvq(win_across_ics_reshaped, centroids, 'euclidean', squared_norms=squared_norms)\n",
        "# sign_inv_waveforms = shi_sgi_pairwise_distances_argmin_min_scipyvq(win_across_ics_reshaped, centroids, 'euclidean')\n",
        "waves = np.vstack(waveforms)\n",
        "# sign_inv_waves = np.vstack(sign_inv_waveforms)"
      ],
      "metadata": {
        "id": "T1jQA1OaEst1",
        "colab": {
          "base_uri": "https://localhost:8080/",
          "height": 661
        },
        "outputId": "04944270-51db-4f00-8f75-a2980bf436b4"
      },
      "execution_count": 77,
      "outputs": [
        {
          "output_type": "error",
          "ename": "TypeError",
          "evalue": "si_pairwise_distances_argmin_min_scipyvq() got an unexpected keyword argument 'squared_norms'",
          "traceback": [
            "\u001b[0;31m---------------------------------------------------------------------------\u001b[0m",
            "\u001b[0;31mTypeError\u001b[0m                                 Traceback (most recent call last)",
            "\u001b[0;32m<ipython-input-77-f0cfc60abc8a>\u001b[0m in \u001b[0;36m<cell line: 8>\u001b[0;34m()\u001b[0m\n\u001b[1;32m      6\u001b[0m \u001b[0mplt\u001b[0m\u001b[0;34m.\u001b[0m\u001b[0mscatter\u001b[0m\u001b[0;34m(\u001b[0m\u001b[0mcentroids\u001b[0m\u001b[0;34m[\u001b[0m\u001b[0;34m:\u001b[0m\u001b[0;34m,\u001b[0m \u001b[0;36m0\u001b[0m\u001b[0;34m]\u001b[0m\u001b[0;34m,\u001b[0m \u001b[0mcentroids\u001b[0m\u001b[0;34m[\u001b[0m\u001b[0;34m:\u001b[0m\u001b[0;34m,\u001b[0m \u001b[0;36m1\u001b[0m\u001b[0;34m]\u001b[0m\u001b[0;34m,\u001b[0m \u001b[0mc\u001b[0m\u001b[0;34m=\u001b[0m\u001b[0;34m'blue'\u001b[0m\u001b[0;34m,\u001b[0m \u001b[0ms\u001b[0m\u001b[0;34m=\u001b[0m\u001b[0;36m50\u001b[0m\u001b[0;34m,\u001b[0m \u001b[0mmarker\u001b[0m\u001b[0;34m=\u001b[0m\u001b[0;34m'o'\u001b[0m\u001b[0;34m)\u001b[0m\u001b[0;34m\u001b[0m\u001b[0;34m\u001b[0m\u001b[0m\n\u001b[1;32m      7\u001b[0m \u001b[0;31m# Call the function with the calculated centroids\u001b[0m\u001b[0;34m\u001b[0m\u001b[0;34m\u001b[0m\u001b[0m\n\u001b[0;32m----> 8\u001b[0;31m \u001b[0mwaveforms\u001b[0m \u001b[0;34m=\u001b[0m \u001b[0msi_pairwise_distances_argmin_min_scipyvq\u001b[0m\u001b[0;34m(\u001b[0m\u001b[0mwin_across_ics_reshaped\u001b[0m\u001b[0;34m,\u001b[0m \u001b[0mcentroids\u001b[0m\u001b[0;34m,\u001b[0m \u001b[0;34m'euclidean'\u001b[0m\u001b[0;34m,\u001b[0m \u001b[0msquared_norms\u001b[0m\u001b[0;34m=\u001b[0m\u001b[0msquared_norms\u001b[0m\u001b[0;34m)\u001b[0m\u001b[0;34m\u001b[0m\u001b[0;34m\u001b[0m\u001b[0m\n\u001b[0m\u001b[1;32m      9\u001b[0m \u001b[0;31m# sign_inv_waveforms = shi_sgi_pairwise_distances_argmin_min_scipyvq(win_across_ics_reshaped, centroids, 'euclidean')\u001b[0m\u001b[0;34m\u001b[0m\u001b[0;34m\u001b[0m\u001b[0m\n\u001b[1;32m     10\u001b[0m \u001b[0mwaves\u001b[0m \u001b[0;34m=\u001b[0m \u001b[0mnp\u001b[0m\u001b[0;34m.\u001b[0m\u001b[0mvstack\u001b[0m\u001b[0;34m(\u001b[0m\u001b[0mwaveforms\u001b[0m\u001b[0;34m)\u001b[0m\u001b[0;34m\u001b[0m\u001b[0;34m\u001b[0m\u001b[0m\n",
            "\u001b[0;31mTypeError\u001b[0m: si_pairwise_distances_argmin_min_scipyvq() got an unexpected keyword argument 'squared_norms'"
          ]
        },
        {
          "output_type": "display_data",
          "data": {
            "text/plain": [
              "<Figure size 640x480 with 1 Axes>"
            ],
            "image/png": "[encoded data removed]"
          },
          "metadata": {}
        }
      ]
    },
    {
      "cell_type": "code",
      "source": [
        "len(centroids)\n",
        "waves.shape"
      ],
      "metadata": {
        "colab": {
          "base_uri": "https://localhost:8080/"
        },
        "id": "GNcbjD1lAtHq",
        "outputId": "fd393fdf-b1dd-4396-9175-2250286a9fc6"
      },
      "execution_count": 40,
      "outputs": [
        {
          "output_type": "execute_result",
          "data": {
            "text/plain": [
              "(3, 3969)"
            ]
          },
          "metadata": {},
          "execution_count": 40
        }
      ]
    },
    {
      "cell_type": "code",
      "source": [
        "# plt.plot(centroids)\n",
        "fig, axs = plt.subplots(20,10)\n",
        "for i in range(len(centroids)):\n",
        "    axs[i].plot(centroids[i])\n",
        "    axs[i].set_title(f'Centroid {i+1}')\n",
        "\n",
        "# plt.tight_layout()\n",
        "plt.ylim(-1,1)\n",
        "fig.suptitle('Centroids')\n",
        "plt.show()"
      ],
      "metadata": {
        "colab": {
          "base_uri": "https://localhost:8080/",
          "height": 602
        },
        "id": "cm5L9b3yALJA",
        "outputId": "ba93da31-0534-4fe3-c818-8ead5190c57a"
      },
      "execution_count": 38,
      "outputs": [
        {
          "output_type": "error",
          "ename": "AttributeError",
          "evalue": "'numpy.ndarray' object has no attribute 'plot'",
          "traceback": [
            "\u001b[0;31m---------------------------------------------------------------------------\u001b[0m",
            "\u001b[0;31mAttributeError\u001b[0m                            Traceback (most recent call last)",
            "\u001b[0;32m<ipython-input-38-ef7a414d6329>\u001b[0m in \u001b[0;36m<cell line: 3>\u001b[0;34m()\u001b[0m\n\u001b[1;32m      2\u001b[0m \u001b[0mfig\u001b[0m\u001b[0;34m,\u001b[0m \u001b[0maxs\u001b[0m \u001b[0;34m=\u001b[0m \u001b[0mplt\u001b[0m\u001b[0;34m.\u001b[0m\u001b[0msubplots\u001b[0m\u001b[0;34m(\u001b[0m\u001b[0;36m20\u001b[0m\u001b[0;34m,\u001b[0m\u001b[0;36m10\u001b[0m\u001b[0;34m)\u001b[0m\u001b[0;34m\u001b[0m\u001b[0;34m\u001b[0m\u001b[0m\n\u001b[1;32m      3\u001b[0m \u001b[0;32mfor\u001b[0m \u001b[0mi\u001b[0m \u001b[0;32min\u001b[0m \u001b[0mrange\u001b[0m\u001b[0;34m(\u001b[0m\u001b[0mlen\u001b[0m\u001b[0;34m(\u001b[0m\u001b[0mcentroids\u001b[0m\u001b[0;34m)\u001b[0m\u001b[0;34m)\u001b[0m\u001b[0;34m:\u001b[0m\u001b[0;34m\u001b[0m\u001b[0;34m\u001b[0m\u001b[0m\n\u001b[0;32m----> 4\u001b[0;31m     \u001b[0maxs\u001b[0m\u001b[0;34m[\u001b[0m\u001b[0mi\u001b[0m\u001b[0;34m]\u001b[0m\u001b[0;34m.\u001b[0m\u001b[0mplot\u001b[0m\u001b[0;34m(\u001b[0m\u001b[0mcentroids\u001b[0m\u001b[0;34m[\u001b[0m\u001b[0mi\u001b[0m\u001b[0;34m]\u001b[0m\u001b[0;34m)\u001b[0m\u001b[0;34m\u001b[0m\u001b[0;34m\u001b[0m\u001b[0m\n\u001b[0m\u001b[1;32m      5\u001b[0m     \u001b[0maxs\u001b[0m\u001b[0;34m[\u001b[0m\u001b[0mi\u001b[0m\u001b[0;34m]\u001b[0m\u001b[0;34m.\u001b[0m\u001b[0mset_title\u001b[0m\u001b[0;34m(\u001b[0m\u001b[0;34mf'Centroid {i+1}'\u001b[0m\u001b[0;34m)\u001b[0m\u001b[0;34m\u001b[0m\u001b[0;34m\u001b[0m\u001b[0m\n\u001b[1;32m      6\u001b[0m \u001b[0;34m\u001b[0m\u001b[0m\n",
            "\u001b[0;31mAttributeError\u001b[0m: 'numpy.ndarray' object has no attribute 'plot'"
          ]
        },
        {
          "output_type": "stream",
          "name": "stdout",
          "text": [
            "Error in callback <function flush_figures at 0x7c73d3093130> (for post_execute):\n"
          ]
        },
        {
          "output_type": "error",
          "ename": "KeyboardInterrupt",
          "evalue": "",
          "traceback": [
            "\u001b[0;31m---------------------------------------------------------------------------\u001b[0m",
            "\u001b[0;31mKeyboardInterrupt\u001b[0m                         Traceback (most recent call last)",
            "\u001b[0;32m/usr/local/lib/python3.10/dist-packages/matplotlib_inline/backend_inline.py\u001b[0m in \u001b[0;36mflush_figures\u001b[0;34m()\u001b[0m\n\u001b[1;32m    124\u001b[0m             \u001b[0;31m# ignore the tracking, just draw and close all figures\u001b[0m\u001b[0;34m\u001b[0m\u001b[0;34m\u001b[0m\u001b[0m\n\u001b[1;32m    125\u001b[0m             \u001b[0;32mtry\u001b[0m\u001b[0;34m:\u001b[0m\u001b[0;34m\u001b[0m\u001b[0;34m\u001b[0m\u001b[0m\n\u001b[0;32m--> 126\u001b[0;31m                 \u001b[0;32mreturn\u001b[0m \u001b[0mshow\u001b[0m\u001b[0;34m(\u001b[0m\u001b[0;32mTrue\u001b[0m\u001b[0;34m)\u001b[0m\u001b[0;34m\u001b[0m\u001b[0;34m\u001b[0m\u001b[0m\n\u001b[0m\u001b[1;32m    127\u001b[0m             \u001b[0;32mexcept\u001b[0m \u001b[0mException\u001b[0m \u001b[0;32mas\u001b[0m \u001b[0me\u001b[0m\u001b[0;34m:\u001b[0m\u001b[0;34m\u001b[0m\u001b[0;34m\u001b[0m\u001b[0m\n\u001b[1;32m    128\u001b[0m                 \u001b[0;31m# safely show traceback if in IPython, else raise\u001b[0m\u001b[0;34m\u001b[0m\u001b[0;34m\u001b[0m\u001b[0m\n",
            "\u001b[0;32m/usr/local/lib/python3.10/dist-packages/matplotlib_inline/backend_inline.py\u001b[0m in \u001b[0;36mshow\u001b[0;34m(close, block)\u001b[0m\n\u001b[1;32m     88\u001b[0m     \u001b[0;32mtry\u001b[0m\u001b[0;34m:\u001b[0m\u001b[0;34m\u001b[0m\u001b[0;34m\u001b[0m\u001b[0m\n\u001b[1;32m     89\u001b[0m         \u001b[0;32mfor\u001b[0m \u001b[0mfigure_manager\u001b[0m \u001b[0;32min\u001b[0m \u001b[0mGcf\u001b[0m\u001b[0;34m.\u001b[0m\u001b[0mget_all_fig_managers\u001b[0m\u001b[0;34m(\u001b[0m\u001b[0;34m)\u001b[0m\u001b[0;34m:\u001b[0m\u001b[0;34m\u001b[0m\u001b[0;34m\u001b[0m\u001b[0m\n\u001b[0;32m---> 90\u001b[0;31m             display(\n\u001b[0m\u001b[1;32m     91\u001b[0m                 \u001b[0mfigure_manager\u001b[0m\u001b[0;34m.\u001b[0m\u001b[0mcanvas\u001b[0m\u001b[0;34m.\u001b[0m\u001b[0mfigure\u001b[0m\u001b[0;34m,\u001b[0m\u001b[0;34m\u001b[0m\u001b[0;34m\u001b[0m\u001b[0m\n\u001b[1;32m     92\u001b[0m                 \u001b[0mmetadata\u001b[0m\u001b[0;34m=\u001b[0m\u001b[0m_fetch_figure_metadata\u001b[0m\u001b[0;34m(\u001b[0m\u001b[0mfigure_manager\u001b[0m\u001b[0;34m.\u001b[0m\u001b[0mcanvas\u001b[0m\u001b[0;34m.\u001b[0m\u001b[0mfigure\u001b[0m\u001b[0;34m)\u001b[0m\u001b[0;34m\u001b[0m\u001b[0;34m\u001b[0m\u001b[0m\n",
            "\u001b[0;32m/usr/local/lib/python3.10/dist-packages/IPython/core/display.py\u001b[0m in \u001b[0;36mdisplay\u001b[0;34m(include, exclude, metadata, transient, display_id, *objs, **kwargs)\u001b[0m\n\u001b[1;32m    318\u001b[0m             \u001b[0mpublish_display_data\u001b[0m\u001b[0;34m(\u001b[0m\u001b[0mdata\u001b[0m\u001b[0;34m=\u001b[0m\u001b[0mobj\u001b[0m\u001b[0;34m,\u001b[0m \u001b[0mmetadata\u001b[0m\u001b[0;34m=\u001b[0m\u001b[0mmetadata\u001b[0m\u001b[0;34m,\u001b[0m \u001b[0;34m**\u001b[0m\u001b[0mkwargs\u001b[0m\u001b[0;34m)\u001b[0m\u001b[0;34m\u001b[0m\u001b[0;34m\u001b[0m\u001b[0m\n\u001b[1;32m    319\u001b[0m         \u001b[0;32melse\u001b[0m\u001b[0;34m:\u001b[0m\u001b[0;34m\u001b[0m\u001b[0;34m\u001b[0m\u001b[0m\n\u001b[0;32m--> 320\u001b[0;31m             \u001b[0mformat_dict\u001b[0m\u001b[0;34m,\u001b[0m \u001b[0mmd_dict\u001b[0m \u001b[0;34m=\u001b[0m \u001b[0mformat\u001b[0m\u001b[0;34m(\u001b[0m\u001b[0mobj\u001b[0m\u001b[0;34m,\u001b[0m \u001b[0minclude\u001b[0m\u001b[0;34m=\u001b[0m\u001b[0minclude\u001b[0m\u001b[0;34m,\u001b[0m \u001b[0mexclude\u001b[0m\u001b[0;34m=\u001b[0m\u001b[0mexclude\u001b[0m\u001b[0;34m)\u001b[0m\u001b[0;34m\u001b[0m\u001b[0;34m\u001b[0m\u001b[0m\n\u001b[0m\u001b[1;32m    321\u001b[0m             \u001b[0;32mif\u001b[0m \u001b[0;32mnot\u001b[0m \u001b[0mformat_dict\u001b[0m\u001b[0;34m:\u001b[0m\u001b[0;34m\u001b[0m\u001b[0;34m\u001b[0m\u001b[0m\n\u001b[1;32m    322\u001b[0m                 \u001b[0;31m# nothing to display (e.g. _ipython_display_ took over)\u001b[0m\u001b[0;34m\u001b[0m\u001b[0;34m\u001b[0m\u001b[0m\n",
            "\u001b[0;32m/usr/local/lib/python3.10/dist-packages/IPython/core/formatters.py\u001b[0m in \u001b[0;36mformat\u001b[0;34m(self, obj, include, exclude)\u001b[0m\n\u001b[1;32m    178\u001b[0m             \u001b[0mmd\u001b[0m \u001b[0;34m=\u001b[0m \u001b[0;32mNone\u001b[0m\u001b[0;34m\u001b[0m\u001b[0;34m\u001b[0m\u001b[0m\n\u001b[1;32m    179\u001b[0m             \u001b[0;32mtry\u001b[0m\u001b[0;34m:\u001b[0m\u001b[0;34m\u001b[0m\u001b[0;34m\u001b[0m\u001b[0m\n\u001b[0;32m--> 180\u001b[0;31m                 \u001b[0mdata\u001b[0m \u001b[0;34m=\u001b[0m \u001b[0mformatter\u001b[0m\u001b[0;34m(\u001b[0m\u001b[0mobj\u001b[0m\u001b[0;34m)\u001b[0m\u001b[0;34m\u001b[0m\u001b[0;34m\u001b[0m\u001b[0m\n\u001b[0m\u001b[1;32m    181\u001b[0m             \u001b[0;32mexcept\u001b[0m\u001b[0;34m:\u001b[0m\u001b[0;34m\u001b[0m\u001b[0;34m\u001b[0m\u001b[0m\n\u001b[1;32m    182\u001b[0m                 \u001b[0;31m# FIXME: log the exception\u001b[0m\u001b[0;34m\u001b[0m\u001b[0;34m\u001b[0m\u001b[0m\n",
            "\u001b[0;32m<decorator-gen-2>\u001b[0m in \u001b[0;36m__call__\u001b[0;34m(self, obj)\u001b[0m\n",
            "\u001b[0;32m/usr/local/lib/python3.10/dist-packages/IPython/core/formatters.py\u001b[0m in \u001b[0;36mcatch_format_error\u001b[0;34m(method, self, *args, **kwargs)\u001b[0m\n\u001b[1;32m    222\u001b[0m     \u001b[0;34m\"\"\"show traceback on failed format call\"\"\"\u001b[0m\u001b[0;34m\u001b[0m\u001b[0;34m\u001b[0m\u001b[0m\n\u001b[1;32m    223\u001b[0m     \u001b[0;32mtry\u001b[0m\u001b[0;34m:\u001b[0m\u001b[0;34m\u001b[0m\u001b[0;34m\u001b[0m\u001b[0m\n\u001b[0;32m--> 224\u001b[0;31m         \u001b[0mr\u001b[0m \u001b[0;34m=\u001b[0m \u001b[0mmethod\u001b[0m\u001b[0;34m(\u001b[0m\u001b[0mself\u001b[0m\u001b[0;34m,\u001b[0m \u001b[0;34m*\u001b[0m\u001b[0margs\u001b[0m\u001b[0;34m,\u001b[0m \u001b[0;34m**\u001b[0m\u001b[0mkwargs\u001b[0m\u001b[0;34m)\u001b[0m\u001b[0;34m\u001b[0m\u001b[0;34m\u001b[0m\u001b[0m\n\u001b[0m\u001b[1;32m    225\u001b[0m     \u001b[0;32mexcept\u001b[0m \u001b[0mNotImplementedError\u001b[0m\u001b[0;34m:\u001b[0m\u001b[0;34m\u001b[0m\u001b[0;34m\u001b[0m\u001b[0m\n\u001b[1;32m    226\u001b[0m         \u001b[0;31m# don't warn on NotImplementedErrors\u001b[0m\u001b[0;34m\u001b[0m\u001b[0;34m\u001b[0m\u001b[0m\n",
            "\u001b[0;32m/usr/local/lib/python3.10/dist-packages/IPython/core/formatters.py\u001b[0m in \u001b[0;36m__call__\u001b[0;34m(self, obj)\u001b[0m\n\u001b[1;32m    339\u001b[0m                 \u001b[0;32mpass\u001b[0m\u001b[0;34m\u001b[0m\u001b[0;34m\u001b[0m\u001b[0m\n\u001b[1;32m    340\u001b[0m             \u001b[0;32melse\u001b[0m\u001b[0;34m:\u001b[0m\u001b[0;34m\u001b[0m\u001b[0;34m\u001b[0m\u001b[0m\n\u001b[0;32m--> 341\u001b[0;31m                 \u001b[0;32mreturn\u001b[0m \u001b[0mprinter\u001b[0m\u001b[0;34m(\u001b[0m\u001b[0mobj\u001b[0m\u001b[0;34m)\u001b[0m\u001b[0;34m\u001b[0m\u001b[0;34m\u001b[0m\u001b[0m\n\u001b[0m\u001b[1;32m    342\u001b[0m             \u001b[0;31m# Finally look for special method names\u001b[0m\u001b[0;34m\u001b[0m\u001b[0;34m\u001b[0m\u001b[0m\n\u001b[1;32m    343\u001b[0m             \u001b[0mmethod\u001b[0m \u001b[0;34m=\u001b[0m \u001b[0mget_real_method\u001b[0m\u001b[0;34m(\u001b[0m\u001b[0mobj\u001b[0m\u001b[0;34m,\u001b[0m \u001b[0mself\u001b[0m\u001b[0;34m.\u001b[0m\u001b[0mprint_method\u001b[0m\u001b[0;34m)\u001b[0m\u001b[0;34m\u001b[0m\u001b[0;34m\u001b[0m\u001b[0m\n",
            "\u001b[0;32m/usr/local/lib/python3.10/dist-packages/IPython/core/pylabtools.py\u001b[0m in \u001b[0;36mprint_figure\u001b[0;34m(fig, fmt, bbox_inches, base64, **kwargs)\u001b[0m\n\u001b[1;32m    149\u001b[0m         \u001b[0mFigureCanvasBase\u001b[0m\u001b[0;34m(\u001b[0m\u001b[0mfig\u001b[0m\u001b[0;34m)\u001b[0m\u001b[0;34m\u001b[0m\u001b[0;34m\u001b[0m\u001b[0m\n\u001b[1;32m    150\u001b[0m \u001b[0;34m\u001b[0m\u001b[0m\n\u001b[0;32m--> 151\u001b[0;31m     \u001b[0mfig\u001b[0m\u001b[0;34m.\u001b[0m\u001b[0mcanvas\u001b[0m\u001b[0;34m.\u001b[0m\u001b[0mprint_figure\u001b[0m\u001b[0;34m(\u001b[0m\u001b[0mbytes_io\u001b[0m\u001b[0;34m,\u001b[0m \u001b[0;34m**\u001b[0m\u001b[0mkw\u001b[0m\u001b[0;34m)\u001b[0m\u001b[0;34m\u001b[0m\u001b[0;34m\u001b[0m\u001b[0m\n\u001b[0m\u001b[1;32m    152\u001b[0m     \u001b[0mdata\u001b[0m \u001b[0;34m=\u001b[0m \u001b[0mbytes_io\u001b[0m\u001b[0;34m.\u001b[0m\u001b[0mgetvalue\u001b[0m\u001b[0;34m(\u001b[0m\u001b[0;34m)\u001b[0m\u001b[0;34m\u001b[0m\u001b[0;34m\u001b[0m\u001b[0m\n\u001b[1;32m    153\u001b[0m     \u001b[0;32mif\u001b[0m \u001b[0mfmt\u001b[0m \u001b[0;34m==\u001b[0m \u001b[0;34m'svg'\u001b[0m\u001b[0;34m:\u001b[0m\u001b[0;34m\u001b[0m\u001b[0;34m\u001b[0m\u001b[0m\n",
            "\u001b[0;32m/usr/local/lib/python3.10/dist-packages/matplotlib/backend_bases.py\u001b[0m in \u001b[0;36mprint_figure\u001b[0;34m(self, filename, dpi, facecolor, edgecolor, orientation, format, bbox_inches, pad_inches, bbox_extra_artists, backend, **kwargs)\u001b[0m\n\u001b[1;32m   2364\u001b[0m                 \u001b[0;31m# force the figure dpi to 72), so we need to set it again here.\u001b[0m\u001b[0;34m\u001b[0m\u001b[0;34m\u001b[0m\u001b[0m\n\u001b[1;32m   2365\u001b[0m                 \u001b[0;32mwith\u001b[0m \u001b[0mcbook\u001b[0m\u001b[0;34m.\u001b[0m\u001b[0m_setattr_cm\u001b[0m\u001b[0;34m(\u001b[0m\u001b[0mself\u001b[0m\u001b[0;34m.\u001b[0m\u001b[0mfigure\u001b[0m\u001b[0;34m,\u001b[0m \u001b[0mdpi\u001b[0m\u001b[0;34m=\u001b[0m\u001b[0mdpi\u001b[0m\u001b[0;34m)\u001b[0m\u001b[0;34m:\u001b[0m\u001b[0;34m\u001b[0m\u001b[0;34m\u001b[0m\u001b[0m\n\u001b[0;32m-> 2366\u001b[0;31m                     result = print_method(\n\u001b[0m\u001b[1;32m   2367\u001b[0m                         \u001b[0mfilename\u001b[0m\u001b[0;34m,\u001b[0m\u001b[0;34m\u001b[0m\u001b[0;34m\u001b[0m\u001b[0m\n\u001b[1;32m   2368\u001b[0m                         \u001b[0mfacecolor\u001b[0m\u001b[0;34m=\u001b[0m\u001b[0mfacecolor\u001b[0m\u001b[0;34m,\u001b[0m\u001b[0;34m\u001b[0m\u001b[0;34m\u001b[0m\u001b[0m\n",
            "\u001b[0;32m/usr/local/lib/python3.10/dist-packages/matplotlib/backend_bases.py\u001b[0m in \u001b[0;36m<lambda>\u001b[0;34m(*args, **kwargs)\u001b[0m\n\u001b[1;32m   2230\u001b[0m                 \"bbox_inches_restore\"}\n\u001b[1;32m   2231\u001b[0m             \u001b[0mskip\u001b[0m \u001b[0;34m=\u001b[0m \u001b[0moptional_kws\u001b[0m \u001b[0;34m-\u001b[0m \u001b[0;34m{\u001b[0m\u001b[0;34m*\u001b[0m\u001b[0minspect\u001b[0m\u001b[0;34m.\u001b[0m\u001b[0msignature\u001b[0m\u001b[0;34m(\u001b[0m\u001b[0mmeth\u001b[0m\u001b[0;34m)\u001b[0m\u001b[0;34m.\u001b[0m\u001b[0mparameters\u001b[0m\u001b[0;34m}\u001b[0m\u001b[0;34m\u001b[0m\u001b[0;34m\u001b[0m\u001b[0m\n\u001b[0;32m-> 2232\u001b[0;31m             print_method = functools.wraps(meth)(lambda *args, **kwargs: meth(\n\u001b[0m\u001b[1;32m   2233\u001b[0m                 *args, **{k: v for k, v in kwargs.items() if k not in skip}))\n\u001b[1;32m   2234\u001b[0m         \u001b[0;32melse\u001b[0m\u001b[0;34m:\u001b[0m  \u001b[0;31m# Let third-parties do as they see fit.\u001b[0m\u001b[0;34m\u001b[0m\u001b[0;34m\u001b[0m\u001b[0m\n",
            "\u001b[0;32m/usr/local/lib/python3.10/dist-packages/matplotlib/backends/backend_agg.py\u001b[0m in \u001b[0;36mprint_png\u001b[0;34m(self, filename_or_obj, metadata, pil_kwargs)\u001b[0m\n\u001b[1;32m    507\u001b[0m             \u001b[0;34m*\u001b[0m\u001b[0mmetadata\u001b[0m\u001b[0;34m*\u001b[0m\u001b[0;34m,\u001b[0m \u001b[0mincluding\u001b[0m \u001b[0mthe\u001b[0m \u001b[0mdefault\u001b[0m \u001b[0;34m'Software'\u001b[0m \u001b[0mkey\u001b[0m\u001b[0;34m.\u001b[0m\u001b[0;34m\u001b[0m\u001b[0;34m\u001b[0m\u001b[0m\n\u001b[1;32m    508\u001b[0m         \"\"\"\n\u001b[0;32m--> 509\u001b[0;31m         \u001b[0mself\u001b[0m\u001b[0;34m.\u001b[0m\u001b[0m_print_pil\u001b[0m\u001b[0;34m(\u001b[0m\u001b[0mfilename_or_obj\u001b[0m\u001b[0;34m,\u001b[0m \u001b[0;34m\"png\"\u001b[0m\u001b[0;34m,\u001b[0m \u001b[0mpil_kwargs\u001b[0m\u001b[0;34m,\u001b[0m \u001b[0mmetadata\u001b[0m\u001b[0;34m)\u001b[0m\u001b[0;34m\u001b[0m\u001b[0;34m\u001b[0m\u001b[0m\n\u001b[0m\u001b[1;32m    510\u001b[0m \u001b[0;34m\u001b[0m\u001b[0m\n\u001b[1;32m    511\u001b[0m     \u001b[0;32mdef\u001b[0m \u001b[0mprint_to_buffer\u001b[0m\u001b[0;34m(\u001b[0m\u001b[0mself\u001b[0m\u001b[0;34m)\u001b[0m\u001b[0;34m:\u001b[0m\u001b[0;34m\u001b[0m\u001b[0;34m\u001b[0m\u001b[0m\n",
            "\u001b[0;32m/usr/local/lib/python3.10/dist-packages/matplotlib/backends/backend_agg.py\u001b[0m in \u001b[0;36m_print_pil\u001b[0;34m(self, filename_or_obj, fmt, pil_kwargs, metadata)\u001b[0m\n\u001b[1;32m    455\u001b[0m         *pil_kwargs* and *metadata* are forwarded).\n\u001b[1;32m    456\u001b[0m         \"\"\"\n\u001b[0;32m--> 457\u001b[0;31m         \u001b[0mFigureCanvasAgg\u001b[0m\u001b[0;34m.\u001b[0m\u001b[0mdraw\u001b[0m\u001b[0;34m(\u001b[0m\u001b[0mself\u001b[0m\u001b[0;34m)\u001b[0m\u001b[0;34m\u001b[0m\u001b[0;34m\u001b[0m\u001b[0m\n\u001b[0m\u001b[1;32m    458\u001b[0m         mpl.image.imsave(\n\u001b[1;32m    459\u001b[0m             \u001b[0mfilename_or_obj\u001b[0m\u001b[0;34m,\u001b[0m \u001b[0mself\u001b[0m\u001b[0;34m.\u001b[0m\u001b[0mbuffer_rgba\u001b[0m\u001b[0;34m(\u001b[0m\u001b[0;34m)\u001b[0m\u001b[0;34m,\u001b[0m \u001b[0mformat\u001b[0m\u001b[0;34m=\u001b[0m\u001b[0mfmt\u001b[0m\u001b[0;34m,\u001b[0m \u001b[0morigin\u001b[0m\u001b[0;34m=\u001b[0m\u001b[0;34m\"upper\"\u001b[0m\u001b[0;34m,\u001b[0m\u001b[0;34m\u001b[0m\u001b[0;34m\u001b[0m\u001b[0m\n",
            "\u001b[0;32m/usr/local/lib/python3.10/dist-packages/matplotlib/backends/backend_agg.py\u001b[0m in \u001b[0;36mdraw\u001b[0;34m(self)\u001b[0m\n\u001b[1;32m    398\u001b[0m              (self.toolbar._wait_cursor_for_draw_cm() if self.toolbar\n\u001b[1;32m    399\u001b[0m               else nullcontext()):\n\u001b[0;32m--> 400\u001b[0;31m             \u001b[0mself\u001b[0m\u001b[0;34m.\u001b[0m\u001b[0mfigure\u001b[0m\u001b[0;34m.\u001b[0m\u001b[0mdraw\u001b[0m\u001b[0;34m(\u001b[0m\u001b[0mself\u001b[0m\u001b[0;34m.\u001b[0m\u001b[0mrenderer\u001b[0m\u001b[0;34m)\u001b[0m\u001b[0;34m\u001b[0m\u001b[0;34m\u001b[0m\u001b[0m\n\u001b[0m\u001b[1;32m    401\u001b[0m             \u001b[0;31m# A GUI class may be need to update a window using this draw, so\u001b[0m\u001b[0;34m\u001b[0m\u001b[0;34m\u001b[0m\u001b[0m\n\u001b[1;32m    402\u001b[0m             \u001b[0;31m# don't forget to call the superclass.\u001b[0m\u001b[0;34m\u001b[0m\u001b[0;34m\u001b[0m\u001b[0m\n",
            "\u001b[0;32m/usr/local/lib/python3.10/dist-packages/matplotlib/artist.py\u001b[0m in \u001b[0;36mdraw_wrapper\u001b[0;34m(artist, renderer, *args, **kwargs)\u001b[0m\n\u001b[1;32m     93\u001b[0m     \u001b[0;34m@\u001b[0m\u001b[0mwraps\u001b[0m\u001b[0;34m(\u001b[0m\u001b[0mdraw\u001b[0m\u001b[0;34m)\u001b[0m\u001b[0;34m\u001b[0m\u001b[0;34m\u001b[0m\u001b[0m\n\u001b[1;32m     94\u001b[0m     \u001b[0;32mdef\u001b[0m \u001b[0mdraw_wrapper\u001b[0m\u001b[0;34m(\u001b[0m\u001b[0martist\u001b[0m\u001b[0;34m,\u001b[0m \u001b[0mrenderer\u001b[0m\u001b[0;34m,\u001b[0m \u001b[0;34m*\u001b[0m\u001b[0margs\u001b[0m\u001b[0;34m,\u001b[0m \u001b[0;34m**\u001b[0m\u001b[0mkwargs\u001b[0m\u001b[0;34m)\u001b[0m\u001b[0;34m:\u001b[0m\u001b[0;34m\u001b[0m\u001b[0;34m\u001b[0m\u001b[0m\n\u001b[0;32m---> 95\u001b[0;31m         \u001b[0mresult\u001b[0m \u001b[0;34m=\u001b[0m \u001b[0mdraw\u001b[0m\u001b[0;34m(\u001b[0m\u001b[0martist\u001b[0m\u001b[0;34m,\u001b[0m \u001b[0mrenderer\u001b[0m\u001b[0;34m,\u001b[0m \u001b[0;34m*\u001b[0m\u001b[0margs\u001b[0m\u001b[0;34m,\u001b[0m \u001b[0;34m**\u001b[0m\u001b[0mkwargs\u001b[0m\u001b[0;34m)\u001b[0m\u001b[0;34m\u001b[0m\u001b[0;34m\u001b[0m\u001b[0m\n\u001b[0m\u001b[1;32m     96\u001b[0m         \u001b[0;32mif\u001b[0m \u001b[0mrenderer\u001b[0m\u001b[0;34m.\u001b[0m\u001b[0m_rasterizing\u001b[0m\u001b[0;34m:\u001b[0m\u001b[0;34m\u001b[0m\u001b[0;34m\u001b[0m\u001b[0m\n\u001b[1;32m     97\u001b[0m             \u001b[0mrenderer\u001b[0m\u001b[0;34m.\u001b[0m\u001b[0mstop_rasterizing\u001b[0m\u001b[0;34m(\u001b[0m\u001b[0;34m)\u001b[0m\u001b[0;34m\u001b[0m\u001b[0;34m\u001b[0m\u001b[0m\n",
            "\u001b[0;32m/usr/local/lib/python3.10/dist-packages/matplotlib/artist.py\u001b[0m in \u001b[0;36mdraw_wrapper\u001b[0;34m(artist, renderer)\u001b[0m\n\u001b[1;32m     70\u001b[0m                 \u001b[0mrenderer\u001b[0m\u001b[0;34m.\u001b[0m\u001b[0mstart_filter\u001b[0m\u001b[0;34m(\u001b[0m\u001b[0;34m)\u001b[0m\u001b[0;34m\u001b[0m\u001b[0;34m\u001b[0m\u001b[0m\n\u001b[1;32m     71\u001b[0m \u001b[0;34m\u001b[0m\u001b[0m\n\u001b[0;32m---> 72\u001b[0;31m             \u001b[0;32mreturn\u001b[0m \u001b[0mdraw\u001b[0m\u001b[0;34m(\u001b[0m\u001b[0martist\u001b[0m\u001b[0;34m,\u001b[0m \u001b[0mrenderer\u001b[0m\u001b[0;34m)\u001b[0m\u001b[0;34m\u001b[0m\u001b[0;34m\u001b[0m\u001b[0m\n\u001b[0m\u001b[1;32m     73\u001b[0m         \u001b[0;32mfinally\u001b[0m\u001b[0;34m:\u001b[0m\u001b[0;34m\u001b[0m\u001b[0;34m\u001b[0m\u001b[0m\n\u001b[1;32m     74\u001b[0m             \u001b[0;32mif\u001b[0m \u001b[0martist\u001b[0m\u001b[0;34m.\u001b[0m\u001b[0mget_agg_filter\u001b[0m\u001b[0;34m(\u001b[0m\u001b[0;34m)\u001b[0m \u001b[0;32mis\u001b[0m \u001b[0;32mnot\u001b[0m \u001b[0;32mNone\u001b[0m\u001b[0;34m:\u001b[0m\u001b[0;34m\u001b[0m\u001b[0;34m\u001b[0m\u001b[0m\n",
            "\u001b[0;32m/usr/local/lib/python3.10/dist-packages/matplotlib/figure.py\u001b[0m in \u001b[0;36mdraw\u001b[0;34m(self, renderer)\u001b[0m\n\u001b[1;32m   3138\u001b[0m \u001b[0;34m\u001b[0m\u001b[0m\n\u001b[1;32m   3139\u001b[0m             \u001b[0mself\u001b[0m\u001b[0;34m.\u001b[0m\u001b[0mpatch\u001b[0m\u001b[0;34m.\u001b[0m\u001b[0mdraw\u001b[0m\u001b[0;34m(\u001b[0m\u001b[0mrenderer\u001b[0m\u001b[0;34m)\u001b[0m\u001b[0;34m\u001b[0m\u001b[0;34m\u001b[0m\u001b[0m\n\u001b[0;32m-> 3140\u001b[0;31m             mimage._draw_list_compositing_images(\n\u001b[0m\u001b[1;32m   3141\u001b[0m                 renderer, self, artists, self.suppressComposite)\n\u001b[1;32m   3142\u001b[0m \u001b[0;34m\u001b[0m\u001b[0m\n",
            "\u001b[0;32m/usr/local/lib/python3.10/dist-packages/matplotlib/image.py\u001b[0m in \u001b[0;36m_draw_list_compositing_images\u001b[0;34m(renderer, parent, artists, suppress_composite)\u001b[0m\n\u001b[1;32m    129\u001b[0m     \u001b[0;32mif\u001b[0m \u001b[0mnot_composite\u001b[0m \u001b[0;32mor\u001b[0m \u001b[0;32mnot\u001b[0m \u001b[0mhas_images\u001b[0m\u001b[0;34m:\u001b[0m\u001b[0;34m\u001b[0m\u001b[0;34m\u001b[0m\u001b[0m\n\u001b[1;32m    130\u001b[0m         \u001b[0;32mfor\u001b[0m \u001b[0ma\u001b[0m \u001b[0;32min\u001b[0m \u001b[0martists\u001b[0m\u001b[0;34m:\u001b[0m\u001b[0;34m\u001b[0m\u001b[0;34m\u001b[0m\u001b[0m\n\u001b[0;32m--> 131\u001b[0;31m             \u001b[0ma\u001b[0m\u001b[0;34m.\u001b[0m\u001b[0mdraw\u001b[0m\u001b[0;34m(\u001b[0m\u001b[0mrenderer\u001b[0m\u001b[0;34m)\u001b[0m\u001b[0;34m\u001b[0m\u001b[0;34m\u001b[0m\u001b[0m\n\u001b[0m\u001b[1;32m    132\u001b[0m     \u001b[0;32melse\u001b[0m\u001b[0;34m:\u001b[0m\u001b[0;34m\u001b[0m\u001b[0;34m\u001b[0m\u001b[0m\n\u001b[1;32m    133\u001b[0m         \u001b[0;31m# Composite any adjacent images together\u001b[0m\u001b[0;34m\u001b[0m\u001b[0;34m\u001b[0m\u001b[0m\n",
            "\u001b[0;32m/usr/local/lib/python3.10/dist-packages/matplotlib/artist.py\u001b[0m in \u001b[0;36mdraw_wrapper\u001b[0;34m(artist, renderer)\u001b[0m\n\u001b[1;32m     70\u001b[0m                 \u001b[0mrenderer\u001b[0m\u001b[0;34m.\u001b[0m\u001b[0mstart_filter\u001b[0m\u001b[0;34m(\u001b[0m\u001b[0;34m)\u001b[0m\u001b[0;34m\u001b[0m\u001b[0;34m\u001b[0m\u001b[0m\n\u001b[1;32m     71\u001b[0m \u001b[0;34m\u001b[0m\u001b[0m\n\u001b[0;32m---> 72\u001b[0;31m             \u001b[0;32mreturn\u001b[0m \u001b[0mdraw\u001b[0m\u001b[0;34m(\u001b[0m\u001b[0martist\u001b[0m\u001b[0;34m,\u001b[0m \u001b[0mrenderer\u001b[0m\u001b[0;34m)\u001b[0m\u001b[0;34m\u001b[0m\u001b[0;34m\u001b[0m\u001b[0m\n\u001b[0m\u001b[1;32m     73\u001b[0m         \u001b[0;32mfinally\u001b[0m\u001b[0;34m:\u001b[0m\u001b[0;34m\u001b[0m\u001b[0;34m\u001b[0m\u001b[0m\n\u001b[1;32m     74\u001b[0m             \u001b[0;32mif\u001b[0m \u001b[0martist\u001b[0m\u001b[0;34m.\u001b[0m\u001b[0mget_agg_filter\u001b[0m\u001b[0;34m(\u001b[0m\u001b[0;34m)\u001b[0m \u001b[0;32mis\u001b[0m \u001b[0;32mnot\u001b[0m \u001b[0;32mNone\u001b[0m\u001b[0;34m:\u001b[0m\u001b[0;34m\u001b[0m\u001b[0;34m\u001b[0m\u001b[0m\n",
            "\u001b[0;32m/usr/local/lib/python3.10/dist-packages/matplotlib/axes/_base.py\u001b[0m in \u001b[0;36mdraw\u001b[0;34m(self, renderer)\u001b[0m\n\u001b[1;32m   3062\u001b[0m             \u001b[0m_draw_rasterized\u001b[0m\u001b[0;34m(\u001b[0m\u001b[0mself\u001b[0m\u001b[0;34m.\u001b[0m\u001b[0mfigure\u001b[0m\u001b[0;34m,\u001b[0m \u001b[0martists_rasterized\u001b[0m\u001b[0;34m,\u001b[0m \u001b[0mrenderer\u001b[0m\u001b[0;34m)\u001b[0m\u001b[0;34m\u001b[0m\u001b[0;34m\u001b[0m\u001b[0m\n\u001b[1;32m   3063\u001b[0m \u001b[0;34m\u001b[0m\u001b[0m\n\u001b[0;32m-> 3064\u001b[0;31m         mimage._draw_list_compositing_images(\n\u001b[0m\u001b[1;32m   3065\u001b[0m             renderer, self, artists, self.figure.suppressComposite)\n\u001b[1;32m   3066\u001b[0m \u001b[0;34m\u001b[0m\u001b[0m\n",
            "\u001b[0;32m/usr/local/lib/python3.10/dist-packages/matplotlib/image.py\u001b[0m in \u001b[0;36m_draw_list_compositing_images\u001b[0;34m(renderer, parent, artists, suppress_composite)\u001b[0m\n\u001b[1;32m    129\u001b[0m     \u001b[0;32mif\u001b[0m \u001b[0mnot_composite\u001b[0m \u001b[0;32mor\u001b[0m \u001b[0;32mnot\u001b[0m \u001b[0mhas_images\u001b[0m\u001b[0;34m:\u001b[0m\u001b[0;34m\u001b[0m\u001b[0;34m\u001b[0m\u001b[0m\n\u001b[1;32m    130\u001b[0m         \u001b[0;32mfor\u001b[0m \u001b[0ma\u001b[0m \u001b[0;32min\u001b[0m \u001b[0martists\u001b[0m\u001b[0;34m:\u001b[0m\u001b[0;34m\u001b[0m\u001b[0;34m\u001b[0m\u001b[0m\n\u001b[0;32m--> 131\u001b[0;31m             \u001b[0ma\u001b[0m\u001b[0;34m.\u001b[0m\u001b[0mdraw\u001b[0m\u001b[0;34m(\u001b[0m\u001b[0mrenderer\u001b[0m\u001b[0;34m)\u001b[0m\u001b[0;34m\u001b[0m\u001b[0;34m\u001b[0m\u001b[0m\n\u001b[0m\u001b[1;32m    132\u001b[0m     \u001b[0;32melse\u001b[0m\u001b[0;34m:\u001b[0m\u001b[0;34m\u001b[0m\u001b[0;34m\u001b[0m\u001b[0m\n\u001b[1;32m    133\u001b[0m         \u001b[0;31m# Composite any adjacent images together\u001b[0m\u001b[0;34m\u001b[0m\u001b[0;34m\u001b[0m\u001b[0m\n",
            "\u001b[0;32m/usr/local/lib/python3.10/dist-packages/matplotlib/artist.py\u001b[0m in \u001b[0;36mdraw_wrapper\u001b[0;34m(artist, renderer)\u001b[0m\n\u001b[1;32m     70\u001b[0m                 \u001b[0mrenderer\u001b[0m\u001b[0;34m.\u001b[0m\u001b[0mstart_filter\u001b[0m\u001b[0;34m(\u001b[0m\u001b[0;34m)\u001b[0m\u001b[0;34m\u001b[0m\u001b[0;34m\u001b[0m\u001b[0m\n\u001b[1;32m     71\u001b[0m \u001b[0;34m\u001b[0m\u001b[0m\n\u001b[0;32m---> 72\u001b[0;31m             \u001b[0;32mreturn\u001b[0m \u001b[0mdraw\u001b[0m\u001b[0;34m(\u001b[0m\u001b[0martist\u001b[0m\u001b[0;34m,\u001b[0m \u001b[0mrenderer\u001b[0m\u001b[0;34m)\u001b[0m\u001b[0;34m\u001b[0m\u001b[0;34m\u001b[0m\u001b[0m\n\u001b[0m\u001b[1;32m     73\u001b[0m         \u001b[0;32mfinally\u001b[0m\u001b[0;34m:\u001b[0m\u001b[0;34m\u001b[0m\u001b[0;34m\u001b[0m\u001b[0m\n\u001b[1;32m     74\u001b[0m             \u001b[0;32mif\u001b[0m \u001b[0martist\u001b[0m\u001b[0;34m.\u001b[0m\u001b[0mget_agg_filter\u001b[0m\u001b[0;34m(\u001b[0m\u001b[0;34m)\u001b[0m \u001b[0;32mis\u001b[0m \u001b[0;32mnot\u001b[0m \u001b[0;32mNone\u001b[0m\u001b[0;34m:\u001b[0m\u001b[0;34m\u001b[0m\u001b[0;34m\u001b[0m\u001b[0m\n",
            "\u001b[0;32m/usr/local/lib/python3.10/dist-packages/matplotlib/axis.py\u001b[0m in \u001b[0;36mdraw\u001b[0;34m(self, renderer, *args, **kwargs)\u001b[0m\n\u001b[1;32m   1381\u001b[0m \u001b[0;34m\u001b[0m\u001b[0m\n\u001b[1;32m   1382\u001b[0m         \u001b[0;31m# Shift label away from axes to avoid overlapping ticklabels.\u001b[0m\u001b[0;34m\u001b[0m\u001b[0;34m\u001b[0m\u001b[0m\n\u001b[0;32m-> 1383\u001b[0;31m         \u001b[0mself\u001b[0m\u001b[0;34m.\u001b[0m\u001b[0m_update_label_position\u001b[0m\u001b[0;34m(\u001b[0m\u001b[0mrenderer\u001b[0m\u001b[0;34m)\u001b[0m\u001b[0;34m\u001b[0m\u001b[0;34m\u001b[0m\u001b[0m\n\u001b[0m\u001b[1;32m   1384\u001b[0m         \u001b[0mself\u001b[0m\u001b[0;34m.\u001b[0m\u001b[0mlabel\u001b[0m\u001b[0;34m.\u001b[0m\u001b[0mdraw\u001b[0m\u001b[0;34m(\u001b[0m\u001b[0mrenderer\u001b[0m\u001b[0;34m)\u001b[0m\u001b[0;34m\u001b[0m\u001b[0;34m\u001b[0m\u001b[0m\n\u001b[1;32m   1385\u001b[0m \u001b[0;34m\u001b[0m\u001b[0m\n",
            "\u001b[0;32m/usr/local/lib/python3.10/dist-packages/matplotlib/axis.py\u001b[0m in \u001b[0;36m_update_label_position\u001b[0;34m(self, renderer)\u001b[0m\n\u001b[1;32m   2302\u001b[0m         \u001b[0;31m# get bounding boxes for this axis and any siblings\u001b[0m\u001b[0;34m\u001b[0m\u001b[0;34m\u001b[0m\u001b[0m\n\u001b[1;32m   2303\u001b[0m         \u001b[0;31m# that have been set by `fig.align_xlabels()`\u001b[0m\u001b[0;34m\u001b[0m\u001b[0;34m\u001b[0m\u001b[0m\n\u001b[0;32m-> 2304\u001b[0;31m         \u001b[0mbboxes\u001b[0m\u001b[0;34m,\u001b[0m \u001b[0mbboxes2\u001b[0m \u001b[0;34m=\u001b[0m \u001b[0mself\u001b[0m\u001b[0;34m.\u001b[0m\u001b[0m_get_tick_boxes_siblings\u001b[0m\u001b[0;34m(\u001b[0m\u001b[0mrenderer\u001b[0m\u001b[0;34m=\u001b[0m\u001b[0mrenderer\u001b[0m\u001b[0;34m)\u001b[0m\u001b[0;34m\u001b[0m\u001b[0;34m\u001b[0m\u001b[0m\n\u001b[0m\u001b[1;32m   2305\u001b[0m \u001b[0;34m\u001b[0m\u001b[0m\n\u001b[1;32m   2306\u001b[0m         \u001b[0mx\u001b[0m\u001b[0;34m,\u001b[0m \u001b[0my\u001b[0m \u001b[0;34m=\u001b[0m \u001b[0mself\u001b[0m\u001b[0;34m.\u001b[0m\u001b[0mlabel\u001b[0m\u001b[0;34m.\u001b[0m\u001b[0mget_position\u001b[0m\u001b[0;34m(\u001b[0m\u001b[0;34m)\u001b[0m\u001b[0;34m\u001b[0m\u001b[0;34m\u001b[0m\u001b[0m\n",
            "\u001b[0;32m/usr/local/lib/python3.10/dist-packages/matplotlib/axis.py\u001b[0m in \u001b[0;36m_get_tick_boxes_siblings\u001b[0;34m(self, renderer)\u001b[0m\n\u001b[1;32m   2097\u001b[0m         \u001b[0;32mfor\u001b[0m \u001b[0max\u001b[0m \u001b[0;32min\u001b[0m \u001b[0mgrouper\u001b[0m\u001b[0;34m.\u001b[0m\u001b[0mget_siblings\u001b[0m\u001b[0;34m(\u001b[0m\u001b[0mself\u001b[0m\u001b[0;34m.\u001b[0m\u001b[0maxes\u001b[0m\u001b[0;34m)\u001b[0m\u001b[0;34m:\u001b[0m\u001b[0;34m\u001b[0m\u001b[0;34m\u001b[0m\u001b[0m\n\u001b[1;32m   2098\u001b[0m             \u001b[0maxis\u001b[0m \u001b[0;34m=\u001b[0m \u001b[0mgetattr\u001b[0m\u001b[0;34m(\u001b[0m\u001b[0max\u001b[0m\u001b[0;34m,\u001b[0m \u001b[0;34mf\"{axis_name}axis\"\u001b[0m\u001b[0;34m)\u001b[0m\u001b[0;34m\u001b[0m\u001b[0;34m\u001b[0m\u001b[0m\n\u001b[0;32m-> 2099\u001b[0;31m             \u001b[0mticks_to_draw\u001b[0m \u001b[0;34m=\u001b[0m \u001b[0maxis\u001b[0m\u001b[0;34m.\u001b[0m\u001b[0m_update_ticks\u001b[0m\u001b[0;34m(\u001b[0m\u001b[0;34m)\u001b[0m\u001b[0;34m\u001b[0m\u001b[0;34m\u001b[0m\u001b[0m\n\u001b[0m\u001b[1;32m   2100\u001b[0m             \u001b[0mtlb\u001b[0m\u001b[0;34m,\u001b[0m \u001b[0mtlb2\u001b[0m \u001b[0;34m=\u001b[0m \u001b[0maxis\u001b[0m\u001b[0;34m.\u001b[0m\u001b[0m_get_ticklabel_bboxes\u001b[0m\u001b[0;34m(\u001b[0m\u001b[0mticks_to_draw\u001b[0m\u001b[0;34m,\u001b[0m \u001b[0mrenderer\u001b[0m\u001b[0;34m)\u001b[0m\u001b[0;34m\u001b[0m\u001b[0;34m\u001b[0m\u001b[0m\n\u001b[1;32m   2101\u001b[0m             \u001b[0mbboxes\u001b[0m\u001b[0;34m.\u001b[0m\u001b[0mextend\u001b[0m\u001b[0;34m(\u001b[0m\u001b[0mtlb\u001b[0m\u001b[0;34m)\u001b[0m\u001b[0;34m\u001b[0m\u001b[0;34m\u001b[0m\u001b[0m\n",
            "\u001b[0;32m/usr/local/lib/python3.10/dist-packages/matplotlib/axis.py\u001b[0m in \u001b[0;36m_update_ticks\u001b[0;34m(self)\u001b[0m\n\u001b[1;32m   1268\u001b[0m             \u001b[0mtick\u001b[0m\u001b[0;34m.\u001b[0m\u001b[0mset_label1\u001b[0m\u001b[0;34m(\u001b[0m\u001b[0mlabel\u001b[0m\u001b[0;34m)\u001b[0m\u001b[0;34m\u001b[0m\u001b[0;34m\u001b[0m\u001b[0m\n\u001b[1;32m   1269\u001b[0m             \u001b[0mtick\u001b[0m\u001b[0;34m.\u001b[0m\u001b[0mset_label2\u001b[0m\u001b[0;34m(\u001b[0m\u001b[0mlabel\u001b[0m\u001b[0;34m)\u001b[0m\u001b[0;34m\u001b[0m\u001b[0;34m\u001b[0m\u001b[0m\n\u001b[0;32m-> 1270\u001b[0;31m         \u001b[0mminor_locs\u001b[0m \u001b[0;34m=\u001b[0m \u001b[0mself\u001b[0m\u001b[0;34m.\u001b[0m\u001b[0mget_minorticklocs\u001b[0m\u001b[0;34m(\u001b[0m\u001b[0;34m)\u001b[0m\u001b[0;34m\u001b[0m\u001b[0;34m\u001b[0m\u001b[0m\n\u001b[0m\u001b[1;32m   1271\u001b[0m         \u001b[0mminor_labels\u001b[0m \u001b[0;34m=\u001b[0m \u001b[0mself\u001b[0m\u001b[0;34m.\u001b[0m\u001b[0mminor\u001b[0m\u001b[0;34m.\u001b[0m\u001b[0mformatter\u001b[0m\u001b[0;34m.\u001b[0m\u001b[0mformat_ticks\u001b[0m\u001b[0;34m(\u001b[0m\u001b[0mminor_locs\u001b[0m\u001b[0;34m)\u001b[0m\u001b[0;34m\u001b[0m\u001b[0;34m\u001b[0m\u001b[0m\n\u001b[1;32m   1272\u001b[0m         \u001b[0mminor_ticks\u001b[0m \u001b[0;34m=\u001b[0m \u001b[0mself\u001b[0m\u001b[0;34m.\u001b[0m\u001b[0mget_minor_ticks\u001b[0m\u001b[0;34m(\u001b[0m\u001b[0mlen\u001b[0m\u001b[0;34m(\u001b[0m\u001b[0mminor_locs\u001b[0m\u001b[0;34m)\u001b[0m\u001b[0;34m)\u001b[0m\u001b[0;34m\u001b[0m\u001b[0;34m\u001b[0m\u001b[0m\n",
            "\u001b[0;32m/usr/local/lib/python3.10/dist-packages/matplotlib/axis.py\u001b[0m in \u001b[0;36mget_minorticklocs\u001b[0;34m(self)\u001b[0m\n\u001b[1;32m   1497\u001b[0m             \u001b[0;31m# rtol for np.isclose.\u001b[0m\u001b[0;34m\u001b[0m\u001b[0;34m\u001b[0m\u001b[0m\n\u001b[1;32m   1498\u001b[0m             \u001b[0mtol\u001b[0m \u001b[0;34m=\u001b[0m \u001b[0;34m(\u001b[0m\u001b[0mhi\u001b[0m \u001b[0;34m-\u001b[0m \u001b[0mlo\u001b[0m\u001b[0;34m)\u001b[0m \u001b[0;34m*\u001b[0m \u001b[0;36m1e-5\u001b[0m\u001b[0;34m\u001b[0m\u001b[0;34m\u001b[0m\u001b[0m\n\u001b[0;32m-> 1499\u001b[0;31m             mask = np.isclose(tr_minor_locs[:, None], tr_major_locs[None, :],\n\u001b[0m\u001b[1;32m   1500\u001b[0m                               atol=tol, rtol=0).any(axis=1)\n\u001b[1;32m   1501\u001b[0m             \u001b[0mminor_locs\u001b[0m \u001b[0;34m=\u001b[0m \u001b[0mminor_locs\u001b[0m\u001b[0;34m[\u001b[0m\u001b[0;34m~\u001b[0m\u001b[0mmask\u001b[0m\u001b[0;34m]\u001b[0m\u001b[0;34m\u001b[0m\u001b[0;34m\u001b[0m\u001b[0m\n",
            "\u001b[0;32m/usr/local/lib/python3.10/dist-packages/numpy/core/numeric.py\u001b[0m in \u001b[0;36misclose\u001b[0;34m(a, b, rtol, atol, equal_nan)\u001b[0m\n\u001b[1;32m   2349\u001b[0m     \u001b[0myfin\u001b[0m \u001b[0;34m=\u001b[0m \u001b[0misfinite\u001b[0m\u001b[0;34m(\u001b[0m\u001b[0my\u001b[0m\u001b[0;34m)\u001b[0m\u001b[0;34m\u001b[0m\u001b[0;34m\u001b[0m\u001b[0m\n\u001b[1;32m   2350\u001b[0m     \u001b[0;32mif\u001b[0m \u001b[0mall\u001b[0m\u001b[0;34m(\u001b[0m\u001b[0mxfin\u001b[0m\u001b[0;34m)\u001b[0m \u001b[0;32mand\u001b[0m \u001b[0mall\u001b[0m\u001b[0;34m(\u001b[0m\u001b[0myfin\u001b[0m\u001b[0;34m)\u001b[0m\u001b[0;34m:\u001b[0m\u001b[0;34m\u001b[0m\u001b[0;34m\u001b[0m\u001b[0m\n\u001b[0;32m-> 2351\u001b[0;31m         \u001b[0;32mreturn\u001b[0m \u001b[0mwithin_tol\u001b[0m\u001b[0;34m(\u001b[0m\u001b[0mx\u001b[0m\u001b[0;34m,\u001b[0m \u001b[0my\u001b[0m\u001b[0;34m,\u001b[0m \u001b[0matol\u001b[0m\u001b[0;34m,\u001b[0m \u001b[0mrtol\u001b[0m\u001b[0;34m)\u001b[0m\u001b[0;34m\u001b[0m\u001b[0;34m\u001b[0m\u001b[0m\n\u001b[0m\u001b[1;32m   2352\u001b[0m     \u001b[0;32melse\u001b[0m\u001b[0;34m:\u001b[0m\u001b[0;34m\u001b[0m\u001b[0;34m\u001b[0m\u001b[0m\n\u001b[1;32m   2353\u001b[0m         \u001b[0mfinite\u001b[0m \u001b[0;34m=\u001b[0m \u001b[0mxfin\u001b[0m \u001b[0;34m&\u001b[0m \u001b[0myfin\u001b[0m\u001b[0;34m\u001b[0m\u001b[0;34m\u001b[0m\u001b[0m\n",
            "\u001b[0;32m/usr/local/lib/python3.10/dist-packages/numpy/core/numeric.py\u001b[0m in \u001b[0;36mwithin_tol\u001b[0;34m(x, y, atol, rtol)\u001b[0m\n\u001b[1;32m   2330\u001b[0m     \u001b[0;32mdef\u001b[0m \u001b[0mwithin_tol\u001b[0m\u001b[0;34m(\u001b[0m\u001b[0mx\u001b[0m\u001b[0;34m,\u001b[0m \u001b[0my\u001b[0m\u001b[0;34m,\u001b[0m \u001b[0matol\u001b[0m\u001b[0;34m,\u001b[0m \u001b[0mrtol\u001b[0m\u001b[0;34m)\u001b[0m\u001b[0;34m:\u001b[0m\u001b[0;34m\u001b[0m\u001b[0;34m\u001b[0m\u001b[0m\n\u001b[1;32m   2331\u001b[0m         \u001b[0;32mwith\u001b[0m \u001b[0merrstate\u001b[0m\u001b[0;34m(\u001b[0m\u001b[0minvalid\u001b[0m\u001b[0;34m=\u001b[0m\u001b[0;34m'ignore'\u001b[0m\u001b[0;34m)\u001b[0m\u001b[0;34m,\u001b[0m \u001b[0m_no_nep50_warning\u001b[0m\u001b[0;34m(\u001b[0m\u001b[0;34m)\u001b[0m\u001b[0;34m:\u001b[0m\u001b[0;34m\u001b[0m\u001b[0;34m\u001b[0m\u001b[0m\n\u001b[0;32m-> 2332\u001b[0;31m             \u001b[0;32mreturn\u001b[0m \u001b[0mless_equal\u001b[0m\u001b[0;34m(\u001b[0m\u001b[0mabs\u001b[0m\u001b[0;34m(\u001b[0m\u001b[0mx\u001b[0m\u001b[0;34m-\u001b[0m\u001b[0my\u001b[0m\u001b[0;34m)\u001b[0m\u001b[0;34m,\u001b[0m \u001b[0matol\u001b[0m \u001b[0;34m+\u001b[0m \u001b[0mrtol\u001b[0m \u001b[0;34m*\u001b[0m \u001b[0mabs\u001b[0m\u001b[0;34m(\u001b[0m\u001b[0my\u001b[0m\u001b[0;34m)\u001b[0m\u001b[0;34m)\u001b[0m\u001b[0;34m\u001b[0m\u001b[0;34m\u001b[0m\u001b[0m\n\u001b[0m\u001b[1;32m   2333\u001b[0m \u001b[0;34m\u001b[0m\u001b[0m\n\u001b[1;32m   2334\u001b[0m     \u001b[0mx\u001b[0m \u001b[0;34m=\u001b[0m \u001b[0masanyarray\u001b[0m\u001b[0;34m(\u001b[0m\u001b[0ma\u001b[0m\u001b[0;34m)\u001b[0m\u001b[0;34m\u001b[0m\u001b[0;34m\u001b[0m\u001b[0m\n",
            "\u001b[0;31mKeyboardInterrupt\u001b[0m: "
          ]
        }
      ]
    },
    {
      "cell_type": "code",
      "source": [
        "waves, sign_inv_waves"
      ],
      "metadata": {
        "id": "r3cfGC7b9z6u"
      },
      "execution_count": null,
      "outputs": []
    },
    {
      "cell_type": "code",
      "source": [
        "waves.shape"
      ],
      "metadata": {
        "id": "fkoblVESAfH7"
      },
      "execution_count": null,
      "outputs": []
    },
    {
      "cell_type": "markdown",
      "source": [
        "Plot Independent Components"
      ],
      "metadata": {
        "id": "_lCsItTVp-dF"
      }
    },
    {
      "cell_type": "code",
      "source": [
        "# waveform_dict = pickle.load(open( \"models/waveform_dict_\"+param_string+\".pickle\", \"rb\" ) )\n",
        "# waveforms = np.vstack( [waveform_dict[d]  for d in segment_info_train])\n",
        "# ave_shap_cont_per_class =\n",
        "\n",
        "def plot_codebooks(codebook,spectra,freq, name,titles=None, ncols=None,figsize=(9.5, 8)):\n",
        "    n = codebook.shape[0]\n",
        "    if ncols is None:\n",
        "        if n>8:\n",
        "            ncols = 8\n",
        "        else:\n",
        "            ncols = int(n/2)\n",
        "    nrows = int(np.ceil(n/ncols))\n",
        "    fig, axs = plt.subplots(nrows, ncols*2, figsize=figsize)\n",
        "    axs = np.reshape(axs, (-1,2))\n",
        "    print(axs.shape)\n",
        "    for i in range(nrows):\n",
        "        for j in range(ncols):\n",
        "            if i*ncols+j < n:\n",
        "                print(i*ncols+j)\n",
        "                axs[i, j*2].plot(codebook[i * ncols + j, :])\n",
        "                if titles is not None:\n",
        "                    axs[i,j*2].set_title(titles[0][i*ncols+j])\n",
        "                axs[i, j*2+1].plot(freq,spectra[i * ncols + j])\n",
        "                axs[i, j*2+1].set_xlim([0,13])\n",
        "                axs[i, j*2+1].set_xticks(np.arange(0,13,3))\n",
        "                if titles is not None:\n",
        "                    axs[i,j*2+1].set_title(titles[1][i*ncols+j])\n",
        "\n",
        "            axs[i, j*2].axis('off')  # hide axis\n",
        "\n",
        "    plt.suptitle(name, fontsize=16)\n",
        "    plt.tight_layout()\n",
        "    plt.show()\n",
        "    return fig, axs\n",
        "\n",
        "plot_codebooks(waves, 10, sfreq, None, ncols=3, figsize=(9.5, 8))\n",
        "peaks = np.zeros(waveforms.shape[0])\n",
        "nfft = 4096\n",
        "n = len(waveforms[0])\n",
        "freq,spectrum = signal.welch(waveforms[0],fs=sfreq, nfft=nfft,nperseg=int(.95*n),noverlap=int(.9*n))\n",
        "\n",
        "spectra = np.zeros((waveforms.shape[0],len(freq)))\n",
        "\n",
        "for i in range(waveforms.shape[0]):\n",
        "    y = waveforms[i]\n",
        "    n = len(y)\n",
        "    freq,spectra[i] = signal.welch(y,sfreq,nfft=nfft,nperseg=int(.95*n),noverlap=int(.9*n))\n",
        "    peaks[i]= freq[np.argmax(spectra[i])]\n",
        "\n",
        "plot_codebooks(waves, 10, sfreq, None, ncols=3, figsize=(9.5, 8))\n",
        "plot_codebooks(waveforms, spectra, freq, None, ncols=4, figsize=(9.5, 8))\n",
        "toplot=16\n",
        "for c in range(6):\n",
        "    wave_idx = np.argsort(-np.abs(ave_shap_cont_per_class[:,c]))\n",
        "#    wave_idx = np.argsort(-ave_shap_cont_per_class[:,c])\n",
        "    # wave_str = ['{}{}.{}: int {:.0f}min.'.format('+' if ave_shap_cont_per_class[i,c]>0 else '-' ,(i//200)+1,(i%200)+1,(np.mean(X_train[:,i])/60)**-1, p) for i,p in zip(wave_idx,peaks[wave_idx])]\n",
        "    # peak_str = ['{:0.1f}Hz'.format(p) for i,p in zip(wave_idx,peaks[wave_idx])]\n",
        "    plot_codebooks(waveforms[wave_idx[:toplot]],spectra[wave_idx[:toplot]],freq,types[c]+f\" ({c+1})\",titles=(wave_str,peak_str),ncols=4)"
      ],
      "metadata": {
        "id": "Q1JSttv9p-Nh"
      },
      "execution_count": null,
      "outputs": []
    },
    {
      "cell_type": "code",
      "source": [
        "from BOWaves.utilities import wrappers\n",
        "def si2_pairwise_distances_argmin_min(X, centroids, metric, squared_norms):\n",
        "    best_labels_b, best_shifts, best_distances = wrappers.si_pairwise_distances_argmin_min(X,\n",
        "                                                                                           np.vstack((centroids,\n",
        "                                                                                                      -centroids)),\n",
        "                                                                                           metric, squared_norms)\n",
        "    best_signs = np.where(best_labels_b//2 == 0, np.ones_like(best_shifts), np.full_like(best_shifts, -1))\n",
        "    n_centroids = centroids.shape[0]\n",
        "    best_labels = best_labels_b % n_centroids"
      ],
      "metadata": {
        "id": "1HjoO3DypD1g"
      },
      "execution_count": 25,
      "outputs": []
    },
    {
      "cell_type": "code",
      "source": [
        "# This code snippet appears to be syntactically correct.\n",
        "# It is likely missing imports or a function definition for 'si2_pairwise_distances_argmin_min'.\n",
        "squared_norms = np.linalg.norm(win_across_ics_reshaped, axis=1)\n",
        "new_waveforms = si2_pairwise_distances_argmin_min(win_across_ics_reshaped, centroids, 'euclidean', squared_norms=squared_norms)"
      ],
      "metadata": {
        "id": "h0XnOHgFpJMW"
      },
      "execution_count": 34,
      "outputs": []
    },
    {
      "cell_type": "code",
      "source": [
        "win_across_ics_reshaped.shape, centroids.shape, squared_norms.shape"
      ],
      "metadata": {
        "colab": {
          "base_uri": "https://localhost:8080/"
        },
        "id": "3K9flOuK4xev",
        "outputId": "36924105-6764-4aaf-98bd-686af6b94a81"
      },
      "execution_count": 46,
      "outputs": [
        {
          "output_type": "execute_result",
          "data": {
            "text/plain": [
              "((3969, 1000), (200, 1000), (3969,))"
            ]
          },
          "metadata": {},
          "execution_count": 46
        }
      ]
    },
    {
      "cell_type": "code",
      "source": [
        "var = si2_kmeans(win_across_ics_reshaped, 200, len(centroids), 'cosine', 'random', 10, 300, 0.0001, None, False)"
      ],
      "metadata": {
        "colab": {
          "base_uri": "https://localhost:8080/"
        },
        "id": "KayuMX_c50Hu",
        "outputId": "f4735e5e-6494-4434-ff68-2c10dc78d74a"
      },
      "execution_count": 66,
      "outputs": [
        {
          "output_type": "stream",
          "name": "stderr",
          "text": [
            "<ipython-input-66-88eeec9de1da>:1: ConvergenceWarning: Number of distinct clusters (189) found smaller than n_clusters (200). Possibly due to duplicate points in X.\n",
            "  var = si2_kmeans(win_across_ics_reshaped, 200, len(centroids), 'cosine', 'random', 10, 300, 0.0001, None, False)\n"
          ]
        }
      ]
    },
    {
      "cell_type": "code",
      "source": [
        "# var_list = [np.array(item) for item in var]\n",
        "var\n"
      ],
      "metadata": {
        "colab": {
          "base_uri": "https://localhost:8080/"
        },
        "id": "ZdbXoV2wfBh4",
        "outputId": "7f626d85-e24e-49c8-ce94-5b460f4bc4cc"
      },
      "execution_count": 80,
      "outputs": [
        {
          "output_type": "execute_result",
          "data": {
            "text/plain": [
              "(array([[ 0.81688912,  0.04111129, -0.15129964, ...,  1.40922126,\n",
              "          1.11527051, -0.79004106],\n",
              "        [ 2.348872  ,  2.4202815 , -0.50116857, ...,  0.45846922,\n",
              "         -0.15385305, -0.15307719],\n",
              "        [-0.38990674,  0.01630525,  0.10730635, ...,  2.06557339,\n",
              "          2.09480195,  0.78575778],\n",
              "        ...,\n",
              "        [ 0.13245211,  0.53969174,  0.11932053, ...,  0.26421103,\n",
              "          1.59934267,  0.86591147],\n",
              "        [-0.14482186, -0.112158  , -0.23165924, ..., -0.29420961,\n",
              "          0.15523865,  0.22988985],\n",
              "        [-0.2387441 , -0.70385383, -0.52790473, ..., -0.01028543,\n",
              "          0.45206417,  0.02401656]]),\n",
              " array([ 23, 114,  58, ...,  58, 100, 187]),\n",
              " array([320, 511, 216, ...,   2, 400, 548]),\n",
              " array([1.58384366e-01, 3.37139567e-02, 1.18636859e-01, ...,\n",
              "        3.15400267e-01, 5.55111512e-16, 3.67526316e-01]),\n",
              " 0.26851470780395176,\n",
              " 13)"
            ]
          },
          "metadata": {},
          "execution_count": 80
        }
      ]
    },
    {
      "cell_type": "code",
      "source": [
        "\"\"\"Sign-invariant and Shift-invariant k-means\"\"\"\n",
        "\n",
        "import sys\n",
        "import warnings\n",
        "\n",
        "import numpy as np\n",
        "from scipy.cluster.vq import vq\n",
        "\n",
        "\n",
        "from sklearn.utils.extmath import stable_cumsum, squared_norm, row_norms\n",
        "from sklearn.exceptions import ConvergenceWarning\n",
        "\n",
        "from BOWaves.utilities import sikmeans_utils, wrappers\n",
        "from sklearn.preprocessing import normalize\n",
        "\n",
        "\n",
        "\n",
        "def init_centroids(X, n_clusters, centroid_length, metric='euclidean',\\\n",
        "    init='k-means++', x_squared_norms=None, rng=None, **kwargs):\n",
        "    \"\"\"\n",
        "    Compute initial centroids\n",
        "\n",
        "    Parameters\n",
        "    ----------\n",
        "    X (numpy.ndarray):\n",
        "        Training data. Rows are samples.\n",
        "    n_clusters (int):\n",
        "        Number of initial seed centroids\n",
        "    centroid_length (int):\n",
        "        Length of each centroid\n",
        "    init ('k-means++', 'random', numpy.ndarray, or a function):\n",
        "        Method for initialization. If it's a function, it should have this\n",
        "        call signature:\n",
        "        centroids, shifts = init(\n",
        "            X, n_clusters, centroid_length, rng, **kwargs).\n",
        "        rng must be a Generator instance.\n",
        "    x_squared_norms (numpy.ndarray or None):\n",
        "        Equivalent to np.matmul(X, X.T). If None, it would be computed if\n",
        "        init='kmeans++'.\n",
        "    rng (Int or Generator instance):\n",
        "        The generator used to initialize the centroids. Use int to make the\n",
        "        randomness deterministic.\n",
        "    **kwargs:\n",
        "        If init=='kmeans++', the following keyword argument can be used\n",
        "            n_local_trials (int):\n",
        "                The number of seeding trials for each centroid (except the first),\n",
        "                of which the one reducing inertia the most is greedily chosen.\n",
        "                Set to None to make the number of trials depend logarithmically\n",
        "                on the number of seeds (2+log(k)); this is the default.\n",
        "\n",
        "\n",
        "    Returns\n",
        "    -------\n",
        "    centroids (numpy.ndarray):\n",
        "        The centroid seeds\n",
        "    \"\"\"\n",
        "\n",
        "    rng = sikmeans_utils.check_rng(rng)\n",
        "\n",
        "    n_samples, sample_length = X.shape\n",
        "\n",
        "    if isinstance(init, str) and init == 'k-means++':\n",
        "        if isinstance(metric, str) and metric == 'euclidean':\n",
        "            if x_squared_norms is None:\n",
        "                x_squared_norms = wrappers.si_row_norms(\n",
        "                    X, centroid_length, squared=True)\n",
        "            if len(kwargs) == 0 or 'n_local_trials' not in kwargs:\n",
        "                n_local_trials = None\n",
        "            else:\n",
        "                n_local_trials = kwargs['n_local_trials']\n",
        "            centroids = _kmeans_plus_plus(\n",
        "                X, n_clusters, centroid_length, x_squared_norms, rng, n_local_trials)\n",
        "        else:\n",
        "            sys.exit(\"k-means++ is not implemented for non-euclidean metrics\")\n",
        "    elif isinstance(init, str) and init == 'random':\n",
        "        centroids = _random_init(X, n_clusters, centroid_length,\\\n",
        "            rng)\n",
        "    elif isinstance(init, str) and init == 'random-energy':\n",
        "        centroids = _random_energy_init(\n",
        "            X, n_clusters, centroid_length, rng)\n",
        "    elif hasattr(init, '__array__'):\n",
        "        # ensure that the centroids have the same dtype as X\n",
        "        # this is a requirement of fused types of cython\n",
        "        centroids = np.array(init, dtype=X.dtype)\n",
        "    elif callable(init):\n",
        "        centroids = init(X, n_clusters, centroid_length,\n",
        "                         rng, **kwargs)\n",
        "        centroids = np.asarray(centroids, dtype=X.dtype)\n",
        "    else:\n",
        "        raise ValueError(\"the init parameter for the k-means should \"\n",
        "                         \"be 'k-means++' or 'random' or an ndarray, \"\n",
        "                         \"'%s' (type '%s') was passed.\" % (init, type(init)))\n",
        "\n",
        "    return centroids\n",
        "\n",
        "\n",
        "def _random_init(X, n_clusters, centroid_length, rng):\n",
        "    n_samples = X.shape[0]\n",
        "    seeds = rng.permutation(n_samples)[:n_clusters]\n",
        "    centroids = X[seeds]\n",
        "    centroids = sikmeans_utils.pick_random_windows(centroids, 1, centroid_length,\n",
        "                                                   rng).squeeze()\n",
        "\n",
        "    return centroids\n",
        "\n",
        "\n",
        "\n",
        "###############################################################################\n",
        "# Main algorithm\n",
        "\n",
        "def si2_kmeans(X, n_clusters, centroid_length, metric='cosine',\n",
        "                               init='random', n_init=10, max_iter=300, tol=1e-4, rng=None, verbose=False):\n",
        "    \"\"\"\n",
        "    Shift-invariant k-means algorithm\n",
        "\n",
        "    Parameters\n",
        "    ----------\n",
        "    X (numpy.ndarray):\n",
        "        Data matrix with samples in its rows.\n",
        "    n_clusters (int):\n",
        "        Number of clusters to form, as well as the number of centroids to find.\n",
        "    centroid_length (int):\n",
        "        The length of each centroid.\n",
        "    metric ('euclidean' or 'cosine'):\n",
        "        Metric used to compute the distance between samples and cluster centroids. Default: 'euclidean'.\n",
        "    init ('k-means++', 'random', numpy.ndarray, or a function):\n",
        "        Method for initialization. If it's a function, it should have this\n",
        "        call signature:\n",
        "        centroids, shifts = init(\n",
        "             X, n_clusters, centroid_length, rng, **kwargs).\n",
        "        rng must be a Generator instance.\n",
        "    n_init (int):\n",
        "        The number of times the algorithm is run with different centroid seeds.\n",
        "        The final results would be from the iteration where the inertia is the\n",
        "        lowest.\n",
        "    max_iter (init):\n",
        "        Maximum number of iterations the algorithm will be run.\n",
        "    tol (float):\n",
        "        Upper bound that the squared euclidean norm of the change in the\n",
        "        centroids must achieve to declare convergence.\n",
        "    rng (int, Generator instance or None):\n",
        "        Determines random number generation for centroid initialization. Use an\n",
        "        int to make the randomness deterministic.\n",
        "    verbose (bool):\n",
        "        If True, print details about each iteration.\n",
        "\n",
        "    Returns\n",
        "    -------\n",
        "    centroids (numpy.ndarray):\n",
        "        A matrix with the learned centroids in its rows.\n",
        "    labels (numpy.ndarray):\n",
        "        labels[i] is the index of the centroid (row of `centroids`) closest\n",
        "        to the sample X[i].\n",
        "    shifts (numpy.ndarray):\n",
        "        shift[i] is the shift that minimizes the distance to the closest\n",
        "        centroid to the sample X[i].\n",
        "    distances (numpy.ndarray):\n",
        "        distances[i] is the distance from X[i,shift[i]:shift[i]+centroid_length]\n",
        "        to its closest centroid.\n",
        "    inertia (float):\n",
        "        The sum of squared euclidean distances to the closest centroid of all the\n",
        "        training samples.\n",
        "    best_n_iter (int):\n",
        "        Number of iterations needed to achieve convergence, according to `tol`.\n",
        "    \"\"\"\n",
        "\n",
        "    rng = sikmeans_utils.check_rng(rng)\n",
        "\n",
        "    best_labels, best_shifts, best_centroids = None, None, None\n",
        "    best_distances, best_inertia, best_n_iter = None, None, None\n",
        "\n",
        "    # subtract of mean of x for more accurate distance computations\n",
        "    # NOTE: Can't do that because each centroid is the average of windows from X\n",
        "    # that were chosen at different starting times.\n",
        "\n",
        "    # Precompute squared norms of rows of X for efficient computation of\n",
        "    # euclidean distances between centroids and samples. Do this for each set of\n",
        "    # windows (shifts) of X. x_squared_norms.shape=(n_shifts, n_samples).\n",
        "    x_squared_norms = None\n",
        "    if isinstance(metric, str) and metric == 'euclidean':\n",
        "        x_squared_norms = wrappers.si_row_norms(X, centroid_length,\n",
        "                                                squared=True)\n",
        "\n",
        "\n",
        "    ss = rng.bit_generator._seed_seq\n",
        "    child_seeds = ss.spawn(n_init)\n",
        "    streams = [np.random.default_rng(s) for s in child_seeds]\n",
        "\n",
        "    for seed in streams:\n",
        "        # run a shift-invariant k-means once\n",
        "        centroids, labels, shifts, distances, inertia, n_iter_ = si2_kmeans_single(\n",
        "            X, n_clusters, centroid_length, metric=metric, init=init, max_iter=max_iter, tol=tol, x_squared_norms=x_squared_norms, rng=seed, verbose=verbose)\n",
        "        # determine if these results are the best so far\n",
        "        if best_inertia is None or inertia < best_inertia:\n",
        "            best_centroids = centroids.copy()\n",
        "            best_labels = labels.copy()\n",
        "            best_shifts = shifts.copy()\n",
        "            best_distances = distances\n",
        "            best_inertia = inertia\n",
        "            best_n_iter = n_iter_\n",
        "\n",
        "    distinct_clusters = len(set(best_labels))\n",
        "\n",
        "    if distinct_clusters < n_clusters:\n",
        "        warnings.warn(\n",
        "            \"Number of distinct clusters ({}) found smaller than \"\n",
        "            \"n_clusters ({}). Possibly due to duplicate points \"\n",
        "            \"in X.\".format(distinct_clusters, n_clusters), ConvergenceWarning,\n",
        "            stacklevel=2\n",
        "        )\n",
        "\n",
        "    return best_centroids, best_labels, best_shifts, best_distances, best_inertia, best_n_iter\n",
        "\n",
        "\n",
        "def si2_kmeans_single(X, n_clusters, centroid_length, metric='euclidean',\\\n",
        "    init='k-means++', max_iter=300, tol=1e-3, x_squared_norms=None, rng=None, verbose=False):\n",
        "    \"\"\"\n",
        "    Single run of shift-invariant k-means\n",
        "    \"\"\"\n",
        "\n",
        "    rng = sikmeans_utils.check_rng(rng)\n",
        "\n",
        "    if isinstance(metric, str) and metric == 'euclidean':\n",
        "        if x_squared_norms is None:\n",
        "            x_squared_norms = wrappers.si_row_norms(\n",
        "                X, centroid_length, squared=True)\n",
        "\n",
        "    best_labels, best_shifts, best_centroids = None, None, None\n",
        "    best_distances, best_inertia = None, None\n",
        "\n",
        "    # Init\n",
        "    centroids = init_centroids(\n",
        "        X, n_clusters, centroid_length, metric, init, x_squared_norms, rng)\n",
        "\n",
        "    #The below is Dr. B's additions from the Jupyter notebook.\n",
        "    #I've added the update step function to the utils file.\n",
        "    #Adding here to test before PR\n",
        "    labels, shifts, distances, signs = _assignment_step(\n",
        "        X, centroids, metric, x_squared_norms)\n",
        "    centroids = _init_centroids_update_step(\n",
        "        X, centroid_length, n_clusters, labels, shifts) # NEW\n",
        "\n",
        "    if verbose:\n",
        "        print('Initialization completed.')\n",
        "\n",
        "    for iteration in range(max_iter):\n",
        "        centroids_old = centroids.copy()\n",
        "        labels, shifts, distances, signs = _assignment_step(X, centroids, metric, x_squared_norms)\n",
        "        centroids = _centroids_update_step(\n",
        "            X, centroid_length, n_clusters, labels, shifts, signs)\n",
        "\n",
        "        inertia = distances.mean()\n",
        "\n",
        "        if verbose:\n",
        "            print(\"Iteration %2d, inertia %.3f\" % (iteration, inertia))\n",
        "\n",
        "        if best_inertia is None or inertia < best_inertia:\n",
        "            best_labels = labels.copy()\n",
        "            best_shifts = shifts.copy()\n",
        "            best_centroids = centroids.copy()\n",
        "            best_distances = distances\n",
        "            best_inertia = inertia\n",
        "\n",
        "        centroid_change = squared_norm(centroids_old - centroids)/n_clusters/centroid_length\n",
        "        #print(centroid_change, tol)\n",
        "        if centroid_change <= tol:\n",
        "            if verbose:\n",
        "                print(\"Converged at iteration %d: \"\n",
        "                      \"centroid changes %e within tolerance %e\"\n",
        "                      % (iteration, centroid_change, tol))\n",
        "            break\n",
        "\n",
        "    if centroid_change > 0:\n",
        "        # rerun asingment step in case of non-convergence so that predicted\n",
        "        # labels match cluster centers\n",
        "        best_labels, best_shifts, best_distances, best_signs = _assignment_step(X, best_centroids, metric, x_squared_norms)\n",
        "        best_inertia = distances.mean()\n",
        "\n",
        "    return best_centroids, best_labels, best_shifts, best_distances, best_inertia, iteration+1\n",
        "\n",
        "\n",
        "def _assignment_step(X, centroids, metric, x_squared_norms):\n",
        "    \"\"\"\n",
        "    Find the index of the shifted centroid that is closest to each sample\n",
        "\n",
        "    Parameters\n",
        "    ----------\n",
        "    X (numpy.ndarray):\n",
        "        Training data. Rows of X are samples.\n",
        "    centroids (numpy.ndarray):\n",
        "        Centroids of the clusters.\n",
        "    x_squared_norms (numpy.ndarray):\n",
        "        Squared Euclidean norm of rows of X. This is used to speed up the\n",
        "        computation of the Euclidean distances between samples and centroids.\n",
        "\n",
        "    Returns\n",
        "    -------\n",
        "    labels (numpy.ndarray):\n",
        "        centroids[labels[i]] is the centroid closest to sample X[i]\n",
        "    shifts (numpy.ndarray):\n",
        "        X[i, shifts[i]:shifts[i]+centroid_length] is the window in X[i]  closest to centroids[labels[i]].\n",
        "    distances (numpy.ndarray):\n",
        "        distances[i] is the distance of X[i, shifts[i]:shifts[i]+ centroid_length] to the closest centroid.\n",
        "    \"\"\"\n",
        "\n",
        "    #for testing\n",
        "    #metric = 'euclidean'\n",
        "\n",
        "    labels, shifts, distances,signs =\\\n",
        "        si2_pairwise_distances_argmin_min(\n",
        "            X, centroids, metric, x_squared_norms)\n",
        "\n",
        "    # Samples whose distance to the silent waveform (i.e, their own norm) is\n",
        "    # smaller than the smallest distance to one cluster are left unassigned.\n",
        "#    xsn = x_squared_norms[shifts, np.arange(X.shape[0])]\n",
        "#    discard_ind=np.where(xsn < distances)[0]\n",
        "#    labels[discard_ind] = -1\n",
        "\n",
        "    return labels, shifts, distances, signs\n",
        "\n",
        "\n",
        "def _centroids_update_step(X, centroid_length, n_clusters, labels, shifts, signs):\n",
        "    \"\"\"\n",
        "    Update the cluster centroids\n",
        "    \"\"\"\n",
        "\n",
        "    centroids = np.zeros((n_clusters, centroid_length))\n",
        "\n",
        "    for sample_id, sample in enumerate(X):\n",
        "        cluster_id = labels[sample_id]\n",
        "        shift = shifts[sample_id]\n",
        "        centroids[cluster_id] += signs[sample_id]*sample[shift:shift+centroid_length]\n",
        "\n",
        "    # NOTE: Some clusters might be empty\n",
        "    cluster_id, cluster_size = np.unique(labels, return_counts=True)\n",
        "    centroids[cluster_id, :] /= cluster_size[:, np.newaxis]\n",
        "\n",
        "    return centroids\n",
        "\n",
        "def si2_pairwise_distances_argmin_min(X, centroids, metric, squared_norms):\n",
        "    best_labels_p, best_shifts_p, best_distances_p = wrappers.si_pairwise_distances_argmin_min(X, centroids, metric, squared_norms)\n",
        "    best_labels_n, best_shifts_n, best_distances_n = wrappers.si_pairwise_distances_argmin_min(X, -centroids, metric, squared_norms)\n",
        "\n",
        "    best_distances = np.where(best_distances_p <= best_distances_n, best_distances_p, best_distances_n)\n",
        "    best_shifts = np.where(best_distances_p <= best_distances_n, best_shifts_p, best_shifts_n)\n",
        "    best_labels = np.where(best_distances_p <= best_distances_n, best_labels_p, best_labels_n)\n",
        "    best_signs = np.where(best_distances_p <= best_distances_n, np.ones_like(best_shifts),\n",
        "                          np.full_like(best_shifts, -1))\n",
        "    return best_labels, best_shifts, best_distances, best_signs\n",
        "\n",
        "def si2_pairwise_distances_argmin_min_scipyvq(X, centroids, metric):\n",
        "    best_labels_p, best_shifts_p, best_distances_p = si_pairwise_distances_argmin_min_scipyvq(X, centroids, metric)\n",
        "    best_labels_n, best_shifts_n, best_distances_n = si_pairwise_distances_argmin_min_scipyvq(X, -centroids, metric)\n",
        "\n",
        "    best_distances = np.where(best_distances_p <= best_distances_n, best_distances_p, best_distances_n)\n",
        "    best_shifts = np.where(best_distances_p <= best_distances_n, best_shifts_p, best_shifts_n)\n",
        "    best_labels = np.where(best_distances_p <= best_distances_n, best_labels_p, best_labels_n)\n",
        "    best_signs = np.where(best_distances_p <= best_distances_n, np.ones_like(best_shifts), np.full_like(best_shifts,-1))\n",
        "    return best_labels, best_shifts, best_distances, best_signs\n",
        "def _init_centroids_update_step(X, centroid_length, n_clusters, labels, shifts):\n",
        "    \"\"\"\n",
        "    Update the cluster centroids\n",
        "    \"\"\"\n",
        "\n",
        "    cluster_ids, _ = np.unique(labels, return_counts=True)\n",
        "    centroids = np.zeros((n_clusters, centroid_length))\n",
        "    n_samples, sample_length = X.shape\n",
        "    # adjust the shifts such that after adjustment the median shift is\n",
        "    max_shift = sample_length - centroid_length\n",
        "    opt_shift = max_shift/2\n",
        "    adjusts = np.zeros((n_clusters))\n",
        "    for k in cluster_ids:\n",
        "        shifts_k = shifts[labels==k]\n",
        "        adjusts[k] = opt_shift-np.median(shifts_k)\n",
        "\n",
        "    cluster_sizes = np.zeros((n_clusters,1))\n",
        "    for sample_id, sample in enumerate(X):\n",
        "        cluster_id = labels[sample_id]\n",
        "        temp = shifts[sample_id]+adjusts[cluster_id]\n",
        "        if temp >= 0 and temp <= max_shift:\n",
        "            shift = np.floor(temp).astype(int)\n",
        "            centroids[cluster_id] += sample[shift:shift+centroid_length]\n",
        "            cluster_sizes[cluster_id] += 1\n",
        "\n",
        "    # NOTE: Some clusters might be empty drop them\n",
        "    #centroids/= cluster_sizes\n",
        "    for k in np.where(cluster_sizes==0)[0]:\n",
        "        centroids[k,:] = 0\n",
        "    for k in np.nonzero(cluster_sizes)[0]:\n",
        "        centroids[k,:]/= cluster_sizes[k]\n",
        "\n",
        "    return centroids\n",
        "\n",
        "def si_pairwise_distances_argmin_min_scipyvq(X, centroids, metric):\n",
        "    \"\"\"\n",
        "    Shift-invariant wrapper of argmin_min, but using scipy's vq instead.\n",
        "    Ablation based on 3rd comment of: https://stackoverflow.com/questions/21660937/get-nearest-point-to-centroid-scikit-learn\n",
        "\n",
        "    The scipy vq call by default uses the Euclidean metric. I'll implement that first and then add cosine\n",
        "    by just normalizing things before passing it in.\n",
        "\n",
        "    Parameters:\n",
        "    X (numpy.ndarray):\n",
        "        Training data. Rows of X are samples.\n",
        "    centroids (numpy.ndarray):\n",
        "        Centroids of the clusters.\n",
        "    x_squared_norms (numpy.ndarray):\n",
        "        Squared Euclidean norm of rows of X. This is used to speed up the\n",
        "        computation of the Euclidean distances between samples and centroids.\n",
        "    \"\"\"\n",
        "\n",
        "    # TODO - make sure to reproduce with set random seed\n",
        "#    print('Hello from scipy')\n",
        "    # euclidean_distances() requires 2D\n",
        "\n",
        "    #first if-else commented out for testing\n",
        "    #if metric == 'euclidean' and x_squared_norms.ndim == 1:\n",
        "    #    x_squared_norms = x_squared_norms.reshape(1, -1)\n",
        "    if centroids.ndim == 1:\n",
        "        centroids = centroids.reshape(1, -1)\n",
        "\n",
        "    n_samples, sample_length = X.shape\n",
        "    centroid_length = centroids.shape[1]\n",
        "    n_shifts = sample_length - centroid_length + 1\n",
        "\n",
        "    best_labels = np.empty((n_shifts, n_samples), dtype=int)\n",
        "    best_distances = np.empty((n_shifts, n_samples))\n",
        "\n",
        "    if metric == 'euclidean':\n",
        "        for shift in range(n_shifts):\n",
        "            # A bug on sklearn enforces a 2D array\n",
        "            #XX = x_squared_norms[shift].reshape((n_samples, 1))\n",
        "            best_labels[shift], best_distances[shift] = \\\n",
        "                vq(X[:, shift:shift+centroid_length], centroids, check_finite=False)\n",
        "            best_distances[shift] = best_distances[shift]**2 # kmeans uses squared distances\n",
        "    elif metric == 'cosine':\n",
        "        # if metric is cosine, just pass in the normalized centroids\n",
        "        normalized_centroids = normalize(centroids,axis=1) #centroids/np.sqrt(np.sum(centroids**2, axis=1, keepdims=True))\n",
        "        for shift in range(n_shifts):\n",
        "            best_labels[shift], best_distances[shift] = vq(normalize(X[:, shift:shift + centroid_length],axis=1), normalized_centroids, check_finite=False)\n",
        "            best_distances[shift] = best_distances[shift]**2/2 # convert to cosine distance\n",
        "    else:\n",
        "        sys.exit('%s metric not implemented' % metric)\n",
        "\n",
        "    # For each sample, find best shift\n",
        "    best_shifts = np.argmin(best_distances, axis=0)\n",
        "    best_labels = best_labels[best_shifts, np.arange(n_samples)]\n",
        "    best_distances = best_distances[best_shifts, np.arange(n_samples)]\n",
        "\n",
        "    return best_labels, best_shifts, best_distances"
      ],
      "metadata": {
        "id": "QK34R5e175A3"
      },
      "execution_count": 64,
      "outputs": []
    }
  ]
}